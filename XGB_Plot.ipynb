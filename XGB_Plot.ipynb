{
 "cells": [
  {
   "cell_type": "code",
   "execution_count": 2,
   "id": "6b481768-bf35-41bc-9e24-3a345e1079cb",
   "metadata": {
    "tags": []
   },
   "outputs": [],
   "source": [
    "\n",
    "import pandas as pd\n",
    "import numpy as np\n",
    "\n",
    "\n",
    "from sklearn.model_selection import KFold\n",
    "#MODEL auch mit nicht zeitabhägigen Features\n",
    "\n",
    "\n"
   ]
  },
  {
   "cell_type": "code",
   "execution_count": 3,
   "id": "203ffb58-3d73-4fd0-8eeb-b6e84c7229f1",
   "metadata": {
    "tags": []
   },
   "outputs": [],
   "source": [
    "pd.set_option('display.max_columns', None)\n"
   ]
  },
  {
   "cell_type": "code",
   "execution_count": null,
   "id": "3aa58fd5",
   "metadata": {
    "tags": []
   },
   "outputs": [],
   "source": []
  },
  {
   "cell_type": "code",
   "execution_count": 4,
   "id": "cd967e16-9daa-4b35-b08b-fee4906c88dc",
   "metadata": {
    "tags": []
   },
   "outputs": [
    {
     "name": "stdout",
     "output_type": "stream",
     "text": [
      "3.10.12 (main, Jul  5 2023, 18:54:27) [GCC 11.2.0]\n"
     ]
    }
   ],
   "source": [
    "import sys\n",
    "print(sys.version)"
   ]
  },
  {
   "cell_type": "code",
   "execution_count": 5,
   "id": "5208ce46",
   "metadata": {
    "tags": []
   },
   "outputs": [
    {
     "name": "stdout",
     "output_type": "stream",
     "text": [
      "Wed Sep  6 21:44:09 2023       \n",
      "+-----------------------------------------------------------------------------+\n",
      "| NVIDIA-SMI 510.39.01    Driver Version: 510.39.01    CUDA Version: 11.6     |\n",
      "|-------------------------------+----------------------+----------------------+\n",
      "| GPU  Name        Persistence-M| Bus-Id        Disp.A | Volatile Uncorr. ECC |\n",
      "| Fan  Temp  Perf  Pwr:Usage/Cap|         Memory-Usage | GPU-Util  Compute M. |\n",
      "|                               |                      |               MIG M. |\n",
      "|===============================+======================+======================|\n",
      "|   0  NVIDIA A40          Off  | 00000000:41:00.0 Off |                    0 |\n",
      "|  0%   32C    P0    76W / 300W |      0MiB / 46068MiB |      0%      Default |\n",
      "|                               |                      |                  N/A |\n",
      "+-------------------------------+----------------------+----------------------+\n",
      "|   1  NVIDIA A40          Off  | 00000000:A1:00.0 Off |                    0 |\n",
      "|  0%   31C    P0    68W / 300W |      0MiB / 46068MiB |      3%      Default |\n",
      "|                               |                      |                  N/A |\n",
      "+-------------------------------+----------------------+----------------------+\n",
      "                                                                               \n",
      "+-----------------------------------------------------------------------------+\n",
      "| Processes:                                                                  |\n",
      "|  GPU   GI   CI        PID   Type   Process name                  GPU Memory |\n",
      "|        ID   ID                                                   Usage      |\n",
      "|=============================================================================|\n",
      "|  No running processes found                                                 |\n",
      "+-----------------------------------------------------------------------------+\n"
     ]
    }
   ],
   "source": [
    "!nvidia-smi"
   ]
  },
  {
   "cell_type": "code",
   "execution_count": 6,
   "id": "6db78f50-7363-497e-9ab6-e1ba61ba16be",
   "metadata": {
    "tags": []
   },
   "outputs": [
    {
     "data": {
      "text/plain": [
       "'3.10.12 (main, Jul  5 2023, 18:54:27) [GCC 11.2.0]'"
      ]
     },
     "execution_count": 6,
     "metadata": {},
     "output_type": "execute_result"
    }
   ],
   "source": [
    "import sys\n",
    "sys.version"
   ]
  },
  {
   "cell_type": "code",
   "execution_count": 7,
   "id": "3761023a-d752-485a-90a9-c217d6e2dfd5",
   "metadata": {
    "tags": []
   },
   "outputs": [],
   "source": [
    "import pandas as pd\n",
    "\n",
    "def shift_column(df, column_to_shift, shift_amount, group_identifier):\n",
    "    \"\"\"\n",
    "    Shifts a column in a pandas dataframe by a specified amount within a certain group.\n",
    "    \n",
    "    Parameters:\n",
    "    df: pandas.DataFrame\n",
    "        The DataFrame on which to operate\n",
    "    column_to_shift: str\n",
    "        The name of the column to shift\n",
    "    shift_amount: int\n",
    "        The amount by which to shift the column\n",
    "    group_identifier: str\n",
    "        The name of the column to group by before shifting\n",
    "    \n",
    "    Returns:\n",
    "    pandas.DataFrame\n",
    "        The DataFrame with the shifted column\n",
    "    \"\"\"\n",
    "    \n",
    "    df[f\"{column_to_shift}_shifted_by_{shift_amount}\"] = df.groupby(group_identifier)[column_to_shift].shift(shift_amount)\n",
    "    \n",
    "    return df\n"
   ]
  },
  {
   "cell_type": "code",
   "execution_count": 8,
   "id": "23bd8a69-0869-494a-92a1-1c3fccedcf1f",
   "metadata": {
    "tags": []
   },
   "outputs": [],
   "source": [
    "def train_test_split(df, key = 'rand_id', test_size=0.1):\n",
    "    unique_case_id = df[key].drop_duplicates().tolist()\n",
    "    ind = int(len(unique_case_id )*(1-test_size))\n",
    "    print(ind)\n",
    "    split_index = unique_case_id[ind]\n",
    "    print(split_index)\n",
    "    first_entry_index = df.loc[df[ key] == split_index].index[0]\n",
    "    print(first_entry_index)\n",
    "    train_df = df.iloc[:first_entry_index]\n",
    "    test_df = df.iloc[first_entry_index:]\n",
    "    return train_df, test_df"
   ]
  },
  {
   "cell_type": "code",
   "execution_count": 9,
   "id": "b9fd9bca-8600-4a3c-a6a2-83a3d6451080",
   "metadata": {
    "tags": []
   },
   "outputs": [],
   "source": [
    "def insert_rows(group, num_rows):\n",
    "    case_id = group.iloc[0][\"rand_id\"]\n",
    "    for _ in range(num_rows):\n",
    "        new_row = pd.DataFrame({'rand_id': case_id}, index=[-1])\n",
    "        new_row[new_row.columns[1:]] = 0\n",
    "        group = pd.concat([new_row, group]).reset_index(drop=True)\n",
    "    return group\n",
    "\n"
   ]
  },
  {
   "cell_type": "code",
   "execution_count": 10,
   "id": "8427e546-a2bb-46f5-a20b-c3afef02d02a",
   "metadata": {
    "tags": []
   },
   "outputs": [],
   "source": [
    "def shift_and_one_hot_fill(df, label, shifts=[]):\n",
    "    \n",
    "    ls = list(shifts)\n",
    "    \n",
    "    for i in ls:      \n",
    "        new_col = shift_index(df, label, i)[label].copy()\n",
    "        df[f'{prefix}_{i}_'+label] = new_col.astype('float32')\n",
    "    for i in ls:\n",
    "        for j in ls:\n",
    "            if(j<i):\n",
    "                df[f'{prefix}_{j}_'+label] = np.where(df[f'{prefix}_{i}_'+label] > 0, 0, df[f'{prefix}_{j}_'+label])\n",
    "    return df"
   ]
  },
  {
   "cell_type": "code",
   "execution_count": 11,
   "id": "7001114d-8734-4e46-9c35-9ab68ae4cd94",
   "metadata": {
    "tags": []
   },
   "outputs": [],
   "source": [
    "def shift_and_one_hot(df, label, shifts=[]):\n",
    "    \n",
    "    ls = list(shifts)\n",
    "    \n",
    "    for i in ls:      \n",
    "        shift_column(df, label, i, 'rand_id')\n",
    "\n",
    "    return df"
   ]
  },
  {
   "cell_type": "code",
   "execution_count": 12,
   "id": "13534dc6-5721-40b4-8a23-1e6777fe9991",
   "metadata": {
    "tags": []
   },
   "outputs": [],
   "source": [
    "\n",
    "def shifted_label_names(label, shifts=[]):\n",
    "    ls = list(shifts)\n",
    "    names = []\n",
    "    for ele in ls:\n",
    "        names.append(f\"{label}_shifted_by_{ele}\")\n",
    "    return names\n",
    "\n"
   ]
  },
  {
   "cell_type": "code",
   "execution_count": 13,
   "id": "5d001200-973d-486b-a588-2528d5fad86d",
   "metadata": {
    "tags": []
   },
   "outputs": [],
   "source": [
    "def add_negative_col(df, label_names, label):\n",
    "    df['no_'+label] = 1. \n",
    "    labels = ['no_'+label]\n",
    "    for ele in label_names:\n",
    "        df['no_'+label] = np.where(df[ele] > 0, 0, df['no_'+label])\n",
    "        labels.append(ele)\n",
    "        \n",
    "    return df, labels"
   ]
  },
  {
   "cell_type": "code",
   "execution_count": 14,
   "id": "3fa8d995-71f5-472d-9635-676890fbff2a",
   "metadata": {
    "tags": []
   },
   "outputs": [],
   "source": [
    "def replace_task(df, columnn, old, new):\n",
    "    return df[columnn].replace(old, new, regex=True)\n",
    "\n",
    "def replace_string_data(df,  replace_data):\n",
    "    for i, (column, old, new) in enumerate(replace_data):\n",
    "        print(column)\n",
    "        print(old)\n",
    "        print(new)\n",
    "        df[column] = replace_task(df, column, old, new)\n",
    "    return df \n",
    "\n"
   ]
  },
  {
   "cell_type": "code",
   "execution_count": 15,
   "id": "327ca64d-63d4-45e2-9a74-de6d3ed179b9",
   "metadata": {
    "tags": []
   },
   "outputs": [],
   "source": [
    "replace_data = [[['phase'],['pre-surgery','pre-airway','intra-surgery', 'post-surgery', 'undefined'],  [0,0.33,0.66,1,0.66]]]"
   ]
  },
  {
   "cell_type": "code",
   "execution_count": 16,
   "id": "c622c0bd-33c5-4281-a3da-44b002d8c490",
   "metadata": {
    "tags": []
   },
   "outputs": [],
   "source": [
    "time_variables = ['hf', 'pulse', 'spo2', 'etco2', 'systolicbp',\n",
    "       'diastolicbp', 'meanbp', 'invasivebp', 'insevo', 'exsevo', 'indes',\n",
    "       'exdes', 'berodual', 'cisatracurium', 'esketamin', 'etomidat',\n",
    "       'fentanyl', 'midazolam', 'noradrenalin', 'phenylephrin', 'piritramid',\n",
    "       'propofol', 'remifentanil', 'rocuronium', 'succinylcholin',\n",
    "       'sufentanil', 'compliance', 'fio2', 'peep', 'plateau', 'pmax', 'ppeak',\n",
    "       'pmean', 'resistance', 'ventfreq', 'ventmode', 'vt',\n",
    "       'dobutamin_perfusor', 'epinephrin_perfusor', 'levosimendan_perfusor',\n",
    "       'noradrenalin_perfusor', 'phenylephrin_perfusor', 'propofol_perfusor',\n",
    "       'remifentanil_perfusor', 'sufentanil_perfusor', 'vasopressin_perfusor',\n",
    "       'phase'] \n",
    "\n",
    "additional_features = ['case_time', 'age', 'gender', 'asa_score', 'urgency','surgery_type']\n",
    "\n",
    "\n",
    "both_features = ['hf', 'pulse', 'spo2', 'etco2', 'systolicbp',\n",
    "       'diastolicbp', 'meanbp', 'invasivebp', 'insevo', 'exsevo', 'indes',\n",
    "       'exdes', 'berodual', 'cisatracurium', 'esketamin', 'etomidat',\n",
    "       'fentanyl', 'midazolam', 'noradrenalin', 'phenylephrin', 'piritramid',\n",
    "       'propofol', 'remifentanil', 'rocuronium', 'succinylcholin',\n",
    "       'sufentanil', 'compliance', 'fio2', 'peep', 'plateau', 'pmax', 'ppeak',\n",
    "       'pmean', 'resistance', 'ventfreq', 'ventmode', 'vt',\n",
    "       'dobutamin_perfusor', 'epinephrin_perfusor', 'levosimendan_perfusor',\n",
    "       'noradrenalin_perfusor', 'phenylephrin_perfusor', 'propofol_perfusor',\n",
    "       'remifentanil_perfusor', 'sufentanil_perfusor', 'vasopressin_perfusor',\n",
    "       'phase', 'case_time', 'age', 'gender', 'asa_score', 'urgency','surgery_type'] \n",
    "\n",
    "labels = ['hypotension60', 'hypotension55', 'hypotension65', 'hypoxemia']"
   ]
  },
  {
   "cell_type": "code",
   "execution_count": 17,
   "id": "5df37b46-cf91-4cef-a6ce-f61b6d279dd3",
   "metadata": {},
   "outputs": [],
   "source": [
    "all = ['rand_id', 'case_time', 'age', 'gender', 'asa_score', 'urgency',\n",
    "       'surgery_type', 'hf', 'pulse', 'spo2', 'etco2', 'systolicbp',\n",
    "       'diastolicbp', 'meanbp', 'invasivebp', 'insevo', 'exsevo', 'indes',\n",
    "       'exdes', 'berodual', 'cisatracurium', 'esketamin', 'etomidat',\n",
    "       'fentanyl', 'midazolam', 'noradrenalin', 'phenylephrin', 'piritramid',\n",
    "       'propofol', 'remifentanil', 'rocuronium', 'succinylcholin',\n",
    "       'sufentanil', 'compliance', 'fio2', 'peep', 'plateau', 'pmax', 'ppeak',\n",
    "       'pmean', 'resistance', 'ventfreq', 'ventmode', 'vt',\n",
    "       'dobutamin_perfusor', 'epinephrin_perfusor', 'levosimendan_perfusor',\n",
    "       'noradrenalin_perfusor', 'phenylephrin_perfusor', 'propofol_perfusor',\n",
    "       'remifentanil_perfusor', 'sufentanil_perfusor', 'vasopressin_perfusor',\n",
    "       'phase', 'hypotension60', 'hypotension65',  'hypoxemia']"
   ]
  },
  {
   "cell_type": "code",
   "execution_count": null,
   "id": "33a3822e-ef48-4133-b02a-8720b48f453c",
   "metadata": {},
   "outputs": [],
   "source": []
  },
  {
   "cell_type": "code",
   "execution_count": 22,
   "id": "edc3a520-7af5-403f-83a6-8a06087a8893",
   "metadata": {
    "tags": []
   },
   "outputs": [],
   "source": [
    "df = pd.read_parquet('/gpfs/data/fs71801/lkapral66/featureset_20230809_shuffled.parquet')"
   ]
  },
  {
   "cell_type": "code",
   "execution_count": 19,
   "id": "374206eb",
   "metadata": {
    "tags": []
   },
   "outputs": [],
   "source": [
    "df = df.head(5000000)"
   ]
  },
  {
   "cell_type": "code",
   "execution_count": null,
   "id": "df17ad77-fcc4-453d-9ca8-e6ae22b89c37",
   "metadata": {},
   "outputs": [],
   "source": []
  },
  {
   "cell_type": "code",
   "execution_count": 20,
   "id": "100b37ea-456d-445a-b6a9-43b8b6ff0937",
   "metadata": {
    "tags": []
   },
   "outputs": [],
   "source": [
    "replace_data_ = [[['phase'],['pre-surgery','pre-airway','intra-surgery', 'post-surgery', 'undefined'], [0,0.33,0.66,1,0.66]], [['invasivebp'],[ True, False], [1,0]], [['hypotension65'],[ True, False], [1,0]]]"
   ]
  },
  {
   "cell_type": "code",
   "execution_count": null,
   "id": "9b5cd15f-6a9f-4346-ad32-b63450b97fc2",
   "metadata": {},
   "outputs": [],
   "source": []
  },
  {
   "cell_type": "code",
   "execution_count": 21,
   "id": "17875797-8bbb-48b3-86d7-84134bb8c246",
   "metadata": {},
   "outputs": [
    {
     "data": {
      "text/html": [
       "<div>\n",
       "<style scoped>\n",
       "    .dataframe tbody tr th:only-of-type {\n",
       "        vertical-align: middle;\n",
       "    }\n",
       "\n",
       "    .dataframe tbody tr th {\n",
       "        vertical-align: top;\n",
       "    }\n",
       "\n",
       "    .dataframe thead th {\n",
       "        text-align: right;\n",
       "    }\n",
       "</style>\n",
       "<table border=\"1\" class=\"dataframe\">\n",
       "  <thead>\n",
       "    <tr style=\"text-align: right;\">\n",
       "      <th></th>\n",
       "      <th>rand_id</th>\n",
       "      <th>case_time</th>\n",
       "      <th>age</th>\n",
       "      <th>gender</th>\n",
       "      <th>asa_score</th>\n",
       "      <th>urgency</th>\n",
       "      <th>surgery_type</th>\n",
       "      <th>hf</th>\n",
       "      <th>pulse</th>\n",
       "      <th>spo2</th>\n",
       "      <th>etco2</th>\n",
       "      <th>systolicbp</th>\n",
       "      <th>diastolicbp</th>\n",
       "      <th>meanbp</th>\n",
       "      <th>invasivebp</th>\n",
       "      <th>insevo</th>\n",
       "      <th>exsevo</th>\n",
       "      <th>indes</th>\n",
       "      <th>exdes</th>\n",
       "      <th>berodual</th>\n",
       "      <th>cisatracurium</th>\n",
       "      <th>esketamin</th>\n",
       "      <th>etomidat</th>\n",
       "      <th>fentanyl</th>\n",
       "      <th>midazolam</th>\n",
       "      <th>noradrenalin</th>\n",
       "      <th>phenylephrin</th>\n",
       "      <th>piritramid</th>\n",
       "      <th>propofol</th>\n",
       "      <th>remifentanil</th>\n",
       "      <th>rocuronium</th>\n",
       "      <th>succinylcholin</th>\n",
       "      <th>sufentanil</th>\n",
       "      <th>compliance</th>\n",
       "      <th>fio2</th>\n",
       "      <th>peep</th>\n",
       "      <th>plateau</th>\n",
       "      <th>pmax</th>\n",
       "      <th>ppeak</th>\n",
       "      <th>pmean</th>\n",
       "      <th>resistance</th>\n",
       "      <th>ventfreq</th>\n",
       "      <th>ventmode</th>\n",
       "      <th>vt</th>\n",
       "      <th>dobutamin_perfusor</th>\n",
       "      <th>epinephrin_perfusor</th>\n",
       "      <th>levosimendan_perfusor</th>\n",
       "      <th>noradrenalin_perfusor</th>\n",
       "      <th>phenylephrin_perfusor</th>\n",
       "      <th>propofol_perfusor</th>\n",
       "      <th>remifentanil_perfusor</th>\n",
       "      <th>sufentanil_perfusor</th>\n",
       "      <th>vasopressin_perfusor</th>\n",
       "      <th>phase</th>\n",
       "      <th>hypotension60</th>\n",
       "      <th>MAP_period_id60</th>\n",
       "      <th>hypotension55</th>\n",
       "      <th>MAP_period_id55</th>\n",
       "      <th>hypotension65</th>\n",
       "      <th>MAP_period_id65</th>\n",
       "      <th>spo2_below_threshold</th>\n",
       "      <th>spo2_period_id</th>\n",
       "      <th>hypoxemia</th>\n",
       "    </tr>\n",
       "  </thead>\n",
       "  <tbody>\n",
       "    <tr>\n",
       "      <th>0</th>\n",
       "      <td>98726471</td>\n",
       "      <td>-45</td>\n",
       "      <td>28</td>\n",
       "      <td>0</td>\n",
       "      <td>1</td>\n",
       "      <td>1</td>\n",
       "      <td>3</td>\n",
       "      <td>104.0</td>\n",
       "      <td>104.0</td>\n",
       "      <td>98.0</td>\n",
       "      <td>NaN</td>\n",
       "      <td>149.0</td>\n",
       "      <td>82.0</td>\n",
       "      <td>101</td>\n",
       "      <td>0</td>\n",
       "      <td>0.0</td>\n",
       "      <td>0.0</td>\n",
       "      <td>0.0</td>\n",
       "      <td>0.0</td>\n",
       "      <td>0</td>\n",
       "      <td>0.0</td>\n",
       "      <td>0.0</td>\n",
       "      <td>0</td>\n",
       "      <td>0.0</td>\n",
       "      <td>0.0</td>\n",
       "      <td>0</td>\n",
       "      <td>0.0</td>\n",
       "      <td>0.0</td>\n",
       "      <td>0.0</td>\n",
       "      <td>0</td>\n",
       "      <td>0.0</td>\n",
       "      <td>0</td>\n",
       "      <td>0.0</td>\n",
       "      <td>NaN</td>\n",
       "      <td>NaN</td>\n",
       "      <td>NaN</td>\n",
       "      <td>NaN</td>\n",
       "      <td>NaN</td>\n",
       "      <td>NaN</td>\n",
       "      <td>NaN</td>\n",
       "      <td>NaN</td>\n",
       "      <td>NaN</td>\n",
       "      <td>NaN</td>\n",
       "      <td>NaN</td>\n",
       "      <td>0.0</td>\n",
       "      <td>0.0</td>\n",
       "      <td>0.0</td>\n",
       "      <td>0.0</td>\n",
       "      <td>0.0</td>\n",
       "      <td>0.0</td>\n",
       "      <td>0.0</td>\n",
       "      <td>0.0</td>\n",
       "      <td>0.0</td>\n",
       "      <td>pre-airway</td>\n",
       "      <td>0</td>\n",
       "      <td>1</td>\n",
       "      <td>0</td>\n",
       "      <td>1</td>\n",
       "      <td>0</td>\n",
       "      <td>1</td>\n",
       "      <td>0</td>\n",
       "      <td>1</td>\n",
       "      <td>0</td>\n",
       "    </tr>\n",
       "    <tr>\n",
       "      <th>1</th>\n",
       "      <td>98726471</td>\n",
       "      <td>-30</td>\n",
       "      <td>28</td>\n",
       "      <td>0</td>\n",
       "      <td>1</td>\n",
       "      <td>1</td>\n",
       "      <td>3</td>\n",
       "      <td>102.0</td>\n",
       "      <td>102.0</td>\n",
       "      <td>96.0</td>\n",
       "      <td>NaN</td>\n",
       "      <td>148.0</td>\n",
       "      <td>81.0</td>\n",
       "      <td>102</td>\n",
       "      <td>0</td>\n",
       "      <td>0.0</td>\n",
       "      <td>0.0</td>\n",
       "      <td>0.0</td>\n",
       "      <td>0.0</td>\n",
       "      <td>0</td>\n",
       "      <td>0.0</td>\n",
       "      <td>0.0</td>\n",
       "      <td>0</td>\n",
       "      <td>0.0</td>\n",
       "      <td>0.0</td>\n",
       "      <td>0</td>\n",
       "      <td>0.0</td>\n",
       "      <td>0.0</td>\n",
       "      <td>0.0</td>\n",
       "      <td>0</td>\n",
       "      <td>0.0</td>\n",
       "      <td>0</td>\n",
       "      <td>0.0</td>\n",
       "      <td>NaN</td>\n",
       "      <td>NaN</td>\n",
       "      <td>NaN</td>\n",
       "      <td>NaN</td>\n",
       "      <td>NaN</td>\n",
       "      <td>NaN</td>\n",
       "      <td>NaN</td>\n",
       "      <td>NaN</td>\n",
       "      <td>NaN</td>\n",
       "      <td>NaN</td>\n",
       "      <td>NaN</td>\n",
       "      <td>0.0</td>\n",
       "      <td>0.0</td>\n",
       "      <td>0.0</td>\n",
       "      <td>0.0</td>\n",
       "      <td>0.0</td>\n",
       "      <td>0.0</td>\n",
       "      <td>0.0</td>\n",
       "      <td>0.0</td>\n",
       "      <td>0.0</td>\n",
       "      <td>pre-airway</td>\n",
       "      <td>0</td>\n",
       "      <td>1</td>\n",
       "      <td>0</td>\n",
       "      <td>1</td>\n",
       "      <td>0</td>\n",
       "      <td>1</td>\n",
       "      <td>0</td>\n",
       "      <td>1</td>\n",
       "      <td>0</td>\n",
       "    </tr>\n",
       "    <tr>\n",
       "      <th>2</th>\n",
       "      <td>98726471</td>\n",
       "      <td>-15</td>\n",
       "      <td>28</td>\n",
       "      <td>0</td>\n",
       "      <td>1</td>\n",
       "      <td>1</td>\n",
       "      <td>3</td>\n",
       "      <td>106.0</td>\n",
       "      <td>106.0</td>\n",
       "      <td>97.0</td>\n",
       "      <td>NaN</td>\n",
       "      <td>148.0</td>\n",
       "      <td>80.0</td>\n",
       "      <td>103</td>\n",
       "      <td>0</td>\n",
       "      <td>0.0</td>\n",
       "      <td>0.0</td>\n",
       "      <td>0.0</td>\n",
       "      <td>0.0</td>\n",
       "      <td>0</td>\n",
       "      <td>0.0</td>\n",
       "      <td>0.0</td>\n",
       "      <td>0</td>\n",
       "      <td>0.0</td>\n",
       "      <td>0.0</td>\n",
       "      <td>0</td>\n",
       "      <td>0.0</td>\n",
       "      <td>0.0</td>\n",
       "      <td>0.0</td>\n",
       "      <td>0</td>\n",
       "      <td>0.0</td>\n",
       "      <td>0</td>\n",
       "      <td>0.0</td>\n",
       "      <td>NaN</td>\n",
       "      <td>NaN</td>\n",
       "      <td>NaN</td>\n",
       "      <td>NaN</td>\n",
       "      <td>NaN</td>\n",
       "      <td>NaN</td>\n",
       "      <td>NaN</td>\n",
       "      <td>NaN</td>\n",
       "      <td>NaN</td>\n",
       "      <td>NaN</td>\n",
       "      <td>NaN</td>\n",
       "      <td>0.0</td>\n",
       "      <td>0.0</td>\n",
       "      <td>0.0</td>\n",
       "      <td>0.0</td>\n",
       "      <td>0.0</td>\n",
       "      <td>0.0</td>\n",
       "      <td>0.0</td>\n",
       "      <td>0.0</td>\n",
       "      <td>0.0</td>\n",
       "      <td>pre-airway</td>\n",
       "      <td>0</td>\n",
       "      <td>1</td>\n",
       "      <td>0</td>\n",
       "      <td>1</td>\n",
       "      <td>0</td>\n",
       "      <td>1</td>\n",
       "      <td>0</td>\n",
       "      <td>1</td>\n",
       "      <td>0</td>\n",
       "    </tr>\n",
       "    <tr>\n",
       "      <th>3</th>\n",
       "      <td>98726471</td>\n",
       "      <td>0</td>\n",
       "      <td>28</td>\n",
       "      <td>0</td>\n",
       "      <td>1</td>\n",
       "      <td>1</td>\n",
       "      <td>3</td>\n",
       "      <td>123.0</td>\n",
       "      <td>127.0</td>\n",
       "      <td>98.0</td>\n",
       "      <td>NaN</td>\n",
       "      <td>147.0</td>\n",
       "      <td>79.0</td>\n",
       "      <td>104</td>\n",
       "      <td>0</td>\n",
       "      <td>0.0</td>\n",
       "      <td>0.0</td>\n",
       "      <td>0.0</td>\n",
       "      <td>0.0</td>\n",
       "      <td>0</td>\n",
       "      <td>0.0</td>\n",
       "      <td>0.0</td>\n",
       "      <td>0</td>\n",
       "      <td>0.0</td>\n",
       "      <td>0.0</td>\n",
       "      <td>0</td>\n",
       "      <td>0.0</td>\n",
       "      <td>0.0</td>\n",
       "      <td>0.0</td>\n",
       "      <td>0</td>\n",
       "      <td>0.0</td>\n",
       "      <td>0</td>\n",
       "      <td>0.0</td>\n",
       "      <td>NaN</td>\n",
       "      <td>NaN</td>\n",
       "      <td>1.0</td>\n",
       "      <td>NaN</td>\n",
       "      <td>NaN</td>\n",
       "      <td>1.0</td>\n",
       "      <td>NaN</td>\n",
       "      <td>NaN</td>\n",
       "      <td>NaN</td>\n",
       "      <td>NaN</td>\n",
       "      <td>NaN</td>\n",
       "      <td>0.0</td>\n",
       "      <td>0.0</td>\n",
       "      <td>0.0</td>\n",
       "      <td>0.0</td>\n",
       "      <td>0.0</td>\n",
       "      <td>0.0</td>\n",
       "      <td>0.0</td>\n",
       "      <td>0.0</td>\n",
       "      <td>0.0</td>\n",
       "      <td>pre-airway</td>\n",
       "      <td>0</td>\n",
       "      <td>1</td>\n",
       "      <td>0</td>\n",
       "      <td>1</td>\n",
       "      <td>0</td>\n",
       "      <td>1</td>\n",
       "      <td>0</td>\n",
       "      <td>1</td>\n",
       "      <td>0</td>\n",
       "    </tr>\n",
       "    <tr>\n",
       "      <th>4</th>\n",
       "      <td>98726471</td>\n",
       "      <td>15</td>\n",
       "      <td>28</td>\n",
       "      <td>0</td>\n",
       "      <td>1</td>\n",
       "      <td>1</td>\n",
       "      <td>3</td>\n",
       "      <td>98.0</td>\n",
       "      <td>96.0</td>\n",
       "      <td>99.0</td>\n",
       "      <td>NaN</td>\n",
       "      <td>146.0</td>\n",
       "      <td>77.0</td>\n",
       "      <td>106</td>\n",
       "      <td>0</td>\n",
       "      <td>0.0</td>\n",
       "      <td>0.0</td>\n",
       "      <td>0.0</td>\n",
       "      <td>0.0</td>\n",
       "      <td>0</td>\n",
       "      <td>0.0</td>\n",
       "      <td>0.0</td>\n",
       "      <td>0</td>\n",
       "      <td>0.0</td>\n",
       "      <td>0.0</td>\n",
       "      <td>0</td>\n",
       "      <td>0.0</td>\n",
       "      <td>0.0</td>\n",
       "      <td>0.0</td>\n",
       "      <td>0</td>\n",
       "      <td>0.0</td>\n",
       "      <td>0</td>\n",
       "      <td>0.0</td>\n",
       "      <td>NaN</td>\n",
       "      <td>NaN</td>\n",
       "      <td>NaN</td>\n",
       "      <td>NaN</td>\n",
       "      <td>NaN</td>\n",
       "      <td>NaN</td>\n",
       "      <td>NaN</td>\n",
       "      <td>NaN</td>\n",
       "      <td>NaN</td>\n",
       "      <td>NaN</td>\n",
       "      <td>NaN</td>\n",
       "      <td>0.0</td>\n",
       "      <td>0.0</td>\n",
       "      <td>0.0</td>\n",
       "      <td>0.0</td>\n",
       "      <td>0.0</td>\n",
       "      <td>0.0</td>\n",
       "      <td>0.0</td>\n",
       "      <td>0.0</td>\n",
       "      <td>0.0</td>\n",
       "      <td>pre-airway</td>\n",
       "      <td>0</td>\n",
       "      <td>1</td>\n",
       "      <td>0</td>\n",
       "      <td>1</td>\n",
       "      <td>0</td>\n",
       "      <td>1</td>\n",
       "      <td>0</td>\n",
       "      <td>1</td>\n",
       "      <td>0</td>\n",
       "    </tr>\n",
       "    <tr>\n",
       "      <th>...</th>\n",
       "      <td>...</td>\n",
       "      <td>...</td>\n",
       "      <td>...</td>\n",
       "      <td>...</td>\n",
       "      <td>...</td>\n",
       "      <td>...</td>\n",
       "      <td>...</td>\n",
       "      <td>...</td>\n",
       "      <td>...</td>\n",
       "      <td>...</td>\n",
       "      <td>...</td>\n",
       "      <td>...</td>\n",
       "      <td>...</td>\n",
       "      <td>...</td>\n",
       "      <td>...</td>\n",
       "      <td>...</td>\n",
       "      <td>...</td>\n",
       "      <td>...</td>\n",
       "      <td>...</td>\n",
       "      <td>...</td>\n",
       "      <td>...</td>\n",
       "      <td>...</td>\n",
       "      <td>...</td>\n",
       "      <td>...</td>\n",
       "      <td>...</td>\n",
       "      <td>...</td>\n",
       "      <td>...</td>\n",
       "      <td>...</td>\n",
       "      <td>...</td>\n",
       "      <td>...</td>\n",
       "      <td>...</td>\n",
       "      <td>...</td>\n",
       "      <td>...</td>\n",
       "      <td>...</td>\n",
       "      <td>...</td>\n",
       "      <td>...</td>\n",
       "      <td>...</td>\n",
       "      <td>...</td>\n",
       "      <td>...</td>\n",
       "      <td>...</td>\n",
       "      <td>...</td>\n",
       "      <td>...</td>\n",
       "      <td>...</td>\n",
       "      <td>...</td>\n",
       "      <td>...</td>\n",
       "      <td>...</td>\n",
       "      <td>...</td>\n",
       "      <td>...</td>\n",
       "      <td>...</td>\n",
       "      <td>...</td>\n",
       "      <td>...</td>\n",
       "      <td>...</td>\n",
       "      <td>...</td>\n",
       "      <td>...</td>\n",
       "      <td>...</td>\n",
       "      <td>...</td>\n",
       "      <td>...</td>\n",
       "      <td>...</td>\n",
       "      <td>...</td>\n",
       "      <td>...</td>\n",
       "      <td>...</td>\n",
       "      <td>...</td>\n",
       "      <td>...</td>\n",
       "    </tr>\n",
       "    <tr>\n",
       "      <th>4999995</th>\n",
       "      <td>69284394</td>\n",
       "      <td>2070</td>\n",
       "      <td>65</td>\n",
       "      <td>1</td>\n",
       "      <td>2</td>\n",
       "      <td>1</td>\n",
       "      <td>1</td>\n",
       "      <td>45.0</td>\n",
       "      <td>45.0</td>\n",
       "      <td>100.0</td>\n",
       "      <td>43.0</td>\n",
       "      <td>108.0</td>\n",
       "      <td>61.0</td>\n",
       "      <td>80</td>\n",
       "      <td>0</td>\n",
       "      <td>0.0</td>\n",
       "      <td>0.0</td>\n",
       "      <td>0.0</td>\n",
       "      <td>0.0</td>\n",
       "      <td>0</td>\n",
       "      <td>0.0</td>\n",
       "      <td>0.0</td>\n",
       "      <td>0</td>\n",
       "      <td>0.0</td>\n",
       "      <td>0.0</td>\n",
       "      <td>0</td>\n",
       "      <td>0.0</td>\n",
       "      <td>0.0</td>\n",
       "      <td>0.0</td>\n",
       "      <td>0</td>\n",
       "      <td>0.0</td>\n",
       "      <td>0</td>\n",
       "      <td>0.0</td>\n",
       "      <td>NaN</td>\n",
       "      <td>NaN</td>\n",
       "      <td>NaN</td>\n",
       "      <td>NaN</td>\n",
       "      <td>NaN</td>\n",
       "      <td>NaN</td>\n",
       "      <td>NaN</td>\n",
       "      <td>NaN</td>\n",
       "      <td>NaN</td>\n",
       "      <td>NaN</td>\n",
       "      <td>NaN</td>\n",
       "      <td>0.0</td>\n",
       "      <td>0.0</td>\n",
       "      <td>0.0</td>\n",
       "      <td>0.0</td>\n",
       "      <td>0.0</td>\n",
       "      <td>290.0</td>\n",
       "      <td>1.0</td>\n",
       "      <td>0.0</td>\n",
       "      <td>0.0</td>\n",
       "      <td>intra-surgery</td>\n",
       "      <td>0</td>\n",
       "      <td>3</td>\n",
       "      <td>0</td>\n",
       "      <td>1</td>\n",
       "      <td>0</td>\n",
       "      <td>3</td>\n",
       "      <td>0</td>\n",
       "      <td>1</td>\n",
       "      <td>0</td>\n",
       "    </tr>\n",
       "    <tr>\n",
       "      <th>4999996</th>\n",
       "      <td>69284394</td>\n",
       "      <td>2085</td>\n",
       "      <td>65</td>\n",
       "      <td>1</td>\n",
       "      <td>2</td>\n",
       "      <td>1</td>\n",
       "      <td>1</td>\n",
       "      <td>45.0</td>\n",
       "      <td>45.0</td>\n",
       "      <td>100.0</td>\n",
       "      <td>43.0</td>\n",
       "      <td>108.0</td>\n",
       "      <td>61.0</td>\n",
       "      <td>80</td>\n",
       "      <td>0</td>\n",
       "      <td>0.0</td>\n",
       "      <td>0.0</td>\n",
       "      <td>0.0</td>\n",
       "      <td>0.0</td>\n",
       "      <td>0</td>\n",
       "      <td>0.0</td>\n",
       "      <td>0.0</td>\n",
       "      <td>0</td>\n",
       "      <td>0.0</td>\n",
       "      <td>0.0</td>\n",
       "      <td>0</td>\n",
       "      <td>0.0</td>\n",
       "      <td>0.0</td>\n",
       "      <td>0.0</td>\n",
       "      <td>0</td>\n",
       "      <td>0.0</td>\n",
       "      <td>0</td>\n",
       "      <td>0.0</td>\n",
       "      <td>NaN</td>\n",
       "      <td>NaN</td>\n",
       "      <td>NaN</td>\n",
       "      <td>NaN</td>\n",
       "      <td>NaN</td>\n",
       "      <td>NaN</td>\n",
       "      <td>NaN</td>\n",
       "      <td>NaN</td>\n",
       "      <td>NaN</td>\n",
       "      <td>NaN</td>\n",
       "      <td>NaN</td>\n",
       "      <td>0.0</td>\n",
       "      <td>0.0</td>\n",
       "      <td>0.0</td>\n",
       "      <td>0.0</td>\n",
       "      <td>0.0</td>\n",
       "      <td>290.0</td>\n",
       "      <td>1.0</td>\n",
       "      <td>0.0</td>\n",
       "      <td>0.0</td>\n",
       "      <td>intra-surgery</td>\n",
       "      <td>0</td>\n",
       "      <td>3</td>\n",
       "      <td>0</td>\n",
       "      <td>1</td>\n",
       "      <td>0</td>\n",
       "      <td>3</td>\n",
       "      <td>0</td>\n",
       "      <td>1</td>\n",
       "      <td>0</td>\n",
       "    </tr>\n",
       "    <tr>\n",
       "      <th>4999997</th>\n",
       "      <td>69284394</td>\n",
       "      <td>2100</td>\n",
       "      <td>65</td>\n",
       "      <td>1</td>\n",
       "      <td>2</td>\n",
       "      <td>1</td>\n",
       "      <td>1</td>\n",
       "      <td>45.0</td>\n",
       "      <td>45.0</td>\n",
       "      <td>100.0</td>\n",
       "      <td>43.0</td>\n",
       "      <td>108.0</td>\n",
       "      <td>61.0</td>\n",
       "      <td>80</td>\n",
       "      <td>0</td>\n",
       "      <td>0.0</td>\n",
       "      <td>0.0</td>\n",
       "      <td>0.0</td>\n",
       "      <td>0.0</td>\n",
       "      <td>0</td>\n",
       "      <td>0.0</td>\n",
       "      <td>0.0</td>\n",
       "      <td>0</td>\n",
       "      <td>0.0</td>\n",
       "      <td>0.0</td>\n",
       "      <td>0</td>\n",
       "      <td>0.0</td>\n",
       "      <td>0.0</td>\n",
       "      <td>0.0</td>\n",
       "      <td>0</td>\n",
       "      <td>0.0</td>\n",
       "      <td>0</td>\n",
       "      <td>0.0</td>\n",
       "      <td>NaN</td>\n",
       "      <td>NaN</td>\n",
       "      <td>NaN</td>\n",
       "      <td>NaN</td>\n",
       "      <td>NaN</td>\n",
       "      <td>NaN</td>\n",
       "      <td>NaN</td>\n",
       "      <td>NaN</td>\n",
       "      <td>NaN</td>\n",
       "      <td>NaN</td>\n",
       "      <td>NaN</td>\n",
       "      <td>0.0</td>\n",
       "      <td>0.0</td>\n",
       "      <td>0.0</td>\n",
       "      <td>0.0</td>\n",
       "      <td>0.0</td>\n",
       "      <td>290.0</td>\n",
       "      <td>1.0</td>\n",
       "      <td>0.0</td>\n",
       "      <td>0.0</td>\n",
       "      <td>intra-surgery</td>\n",
       "      <td>0</td>\n",
       "      <td>3</td>\n",
       "      <td>0</td>\n",
       "      <td>1</td>\n",
       "      <td>0</td>\n",
       "      <td>3</td>\n",
       "      <td>0</td>\n",
       "      <td>1</td>\n",
       "      <td>0</td>\n",
       "    </tr>\n",
       "    <tr>\n",
       "      <th>4999998</th>\n",
       "      <td>69284394</td>\n",
       "      <td>2115</td>\n",
       "      <td>65</td>\n",
       "      <td>1</td>\n",
       "      <td>2</td>\n",
       "      <td>1</td>\n",
       "      <td>1</td>\n",
       "      <td>45.0</td>\n",
       "      <td>45.0</td>\n",
       "      <td>100.0</td>\n",
       "      <td>43.0</td>\n",
       "      <td>108.0</td>\n",
       "      <td>61.0</td>\n",
       "      <td>80</td>\n",
       "      <td>0</td>\n",
       "      <td>0.0</td>\n",
       "      <td>0.0</td>\n",
       "      <td>0.0</td>\n",
       "      <td>0.0</td>\n",
       "      <td>0</td>\n",
       "      <td>0.0</td>\n",
       "      <td>0.0</td>\n",
       "      <td>0</td>\n",
       "      <td>0.0</td>\n",
       "      <td>0.0</td>\n",
       "      <td>0</td>\n",
       "      <td>0.0</td>\n",
       "      <td>0.0</td>\n",
       "      <td>0.0</td>\n",
       "      <td>0</td>\n",
       "      <td>0.0</td>\n",
       "      <td>0</td>\n",
       "      <td>0.0</td>\n",
       "      <td>NaN</td>\n",
       "      <td>NaN</td>\n",
       "      <td>NaN</td>\n",
       "      <td>NaN</td>\n",
       "      <td>NaN</td>\n",
       "      <td>NaN</td>\n",
       "      <td>NaN</td>\n",
       "      <td>NaN</td>\n",
       "      <td>NaN</td>\n",
       "      <td>NaN</td>\n",
       "      <td>NaN</td>\n",
       "      <td>0.0</td>\n",
       "      <td>0.0</td>\n",
       "      <td>0.0</td>\n",
       "      <td>0.0</td>\n",
       "      <td>0.0</td>\n",
       "      <td>290.0</td>\n",
       "      <td>1.0</td>\n",
       "      <td>0.0</td>\n",
       "      <td>0.0</td>\n",
       "      <td>intra-surgery</td>\n",
       "      <td>0</td>\n",
       "      <td>3</td>\n",
       "      <td>0</td>\n",
       "      <td>1</td>\n",
       "      <td>0</td>\n",
       "      <td>3</td>\n",
       "      <td>0</td>\n",
       "      <td>1</td>\n",
       "      <td>0</td>\n",
       "    </tr>\n",
       "    <tr>\n",
       "      <th>4999999</th>\n",
       "      <td>69284394</td>\n",
       "      <td>2130</td>\n",
       "      <td>65</td>\n",
       "      <td>1</td>\n",
       "      <td>2</td>\n",
       "      <td>1</td>\n",
       "      <td>1</td>\n",
       "      <td>44.0</td>\n",
       "      <td>44.0</td>\n",
       "      <td>100.0</td>\n",
       "      <td>43.0</td>\n",
       "      <td>108.0</td>\n",
       "      <td>61.0</td>\n",
       "      <td>81</td>\n",
       "      <td>0</td>\n",
       "      <td>0.0</td>\n",
       "      <td>0.0</td>\n",
       "      <td>0.0</td>\n",
       "      <td>0.0</td>\n",
       "      <td>0</td>\n",
       "      <td>0.0</td>\n",
       "      <td>0.0</td>\n",
       "      <td>0</td>\n",
       "      <td>0.0</td>\n",
       "      <td>0.0</td>\n",
       "      <td>0</td>\n",
       "      <td>0.0</td>\n",
       "      <td>0.0</td>\n",
       "      <td>0.0</td>\n",
       "      <td>0</td>\n",
       "      <td>0.0</td>\n",
       "      <td>0</td>\n",
       "      <td>0.0</td>\n",
       "      <td>NaN</td>\n",
       "      <td>NaN</td>\n",
       "      <td>NaN</td>\n",
       "      <td>NaN</td>\n",
       "      <td>NaN</td>\n",
       "      <td>NaN</td>\n",
       "      <td>NaN</td>\n",
       "      <td>NaN</td>\n",
       "      <td>NaN</td>\n",
       "      <td>NaN</td>\n",
       "      <td>NaN</td>\n",
       "      <td>0.0</td>\n",
       "      <td>0.0</td>\n",
       "      <td>0.0</td>\n",
       "      <td>0.0</td>\n",
       "      <td>0.0</td>\n",
       "      <td>290.0</td>\n",
       "      <td>1.0</td>\n",
       "      <td>0.0</td>\n",
       "      <td>0.0</td>\n",
       "      <td>intra-surgery</td>\n",
       "      <td>0</td>\n",
       "      <td>3</td>\n",
       "      <td>0</td>\n",
       "      <td>1</td>\n",
       "      <td>0</td>\n",
       "      <td>3</td>\n",
       "      <td>0</td>\n",
       "      <td>1</td>\n",
       "      <td>0</td>\n",
       "    </tr>\n",
       "  </tbody>\n",
       "</table>\n",
       "<p>5000000 rows × 63 columns</p>\n",
       "</div>"
      ],
      "text/plain": [
       "          rand_id  case_time  age  gender  asa_score  urgency  surgery_type  \\\n",
       "0        98726471        -45   28       0          1        1             3   \n",
       "1        98726471        -30   28       0          1        1             3   \n",
       "2        98726471        -15   28       0          1        1             3   \n",
       "3        98726471          0   28       0          1        1             3   \n",
       "4        98726471         15   28       0          1        1             3   \n",
       "...           ...        ...  ...     ...        ...      ...           ...   \n",
       "4999995  69284394       2070   65       1          2        1             1   \n",
       "4999996  69284394       2085   65       1          2        1             1   \n",
       "4999997  69284394       2100   65       1          2        1             1   \n",
       "4999998  69284394       2115   65       1          2        1             1   \n",
       "4999999  69284394       2130   65       1          2        1             1   \n",
       "\n",
       "            hf  pulse   spo2  etco2  systolicbp  diastolicbp  meanbp  \\\n",
       "0        104.0  104.0   98.0    NaN       149.0         82.0     101   \n",
       "1        102.0  102.0   96.0    NaN       148.0         81.0     102   \n",
       "2        106.0  106.0   97.0    NaN       148.0         80.0     103   \n",
       "3        123.0  127.0   98.0    NaN       147.0         79.0     104   \n",
       "4         98.0   96.0   99.0    NaN       146.0         77.0     106   \n",
       "...        ...    ...    ...    ...         ...          ...     ...   \n",
       "4999995   45.0   45.0  100.0   43.0       108.0         61.0      80   \n",
       "4999996   45.0   45.0  100.0   43.0       108.0         61.0      80   \n",
       "4999997   45.0   45.0  100.0   43.0       108.0         61.0      80   \n",
       "4999998   45.0   45.0  100.0   43.0       108.0         61.0      80   \n",
       "4999999   44.0   44.0  100.0   43.0       108.0         61.0      81   \n",
       "\n",
       "         invasivebp  insevo  exsevo  indes  exdes  berodual  cisatracurium  \\\n",
       "0                 0     0.0     0.0    0.0    0.0         0            0.0   \n",
       "1                 0     0.0     0.0    0.0    0.0         0            0.0   \n",
       "2                 0     0.0     0.0    0.0    0.0         0            0.0   \n",
       "3                 0     0.0     0.0    0.0    0.0         0            0.0   \n",
       "4                 0     0.0     0.0    0.0    0.0         0            0.0   \n",
       "...             ...     ...     ...    ...    ...       ...            ...   \n",
       "4999995           0     0.0     0.0    0.0    0.0         0            0.0   \n",
       "4999996           0     0.0     0.0    0.0    0.0         0            0.0   \n",
       "4999997           0     0.0     0.0    0.0    0.0         0            0.0   \n",
       "4999998           0     0.0     0.0    0.0    0.0         0            0.0   \n",
       "4999999           0     0.0     0.0    0.0    0.0         0            0.0   \n",
       "\n",
       "         esketamin  etomidat  fentanyl  midazolam  noradrenalin  phenylephrin  \\\n",
       "0              0.0         0       0.0        0.0             0           0.0   \n",
       "1              0.0         0       0.0        0.0             0           0.0   \n",
       "2              0.0         0       0.0        0.0             0           0.0   \n",
       "3              0.0         0       0.0        0.0             0           0.0   \n",
       "4              0.0         0       0.0        0.0             0           0.0   \n",
       "...            ...       ...       ...        ...           ...           ...   \n",
       "4999995        0.0         0       0.0        0.0             0           0.0   \n",
       "4999996        0.0         0       0.0        0.0             0           0.0   \n",
       "4999997        0.0         0       0.0        0.0             0           0.0   \n",
       "4999998        0.0         0       0.0        0.0             0           0.0   \n",
       "4999999        0.0         0       0.0        0.0             0           0.0   \n",
       "\n",
       "         piritramid  propofol  remifentanil  rocuronium  succinylcholin  \\\n",
       "0               0.0       0.0             0         0.0               0   \n",
       "1               0.0       0.0             0         0.0               0   \n",
       "2               0.0       0.0             0         0.0               0   \n",
       "3               0.0       0.0             0         0.0               0   \n",
       "4               0.0       0.0             0         0.0               0   \n",
       "...             ...       ...           ...         ...             ...   \n",
       "4999995         0.0       0.0             0         0.0               0   \n",
       "4999996         0.0       0.0             0         0.0               0   \n",
       "4999997         0.0       0.0             0         0.0               0   \n",
       "4999998         0.0       0.0             0         0.0               0   \n",
       "4999999         0.0       0.0             0         0.0               0   \n",
       "\n",
       "         sufentanil  compliance  fio2  peep  plateau  pmax  ppeak  pmean  \\\n",
       "0               0.0         NaN   NaN   NaN      NaN   NaN    NaN    NaN   \n",
       "1               0.0         NaN   NaN   NaN      NaN   NaN    NaN    NaN   \n",
       "2               0.0         NaN   NaN   NaN      NaN   NaN    NaN    NaN   \n",
       "3               0.0         NaN   NaN   1.0      NaN   NaN    1.0    NaN   \n",
       "4               0.0         NaN   NaN   NaN      NaN   NaN    NaN    NaN   \n",
       "...             ...         ...   ...   ...      ...   ...    ...    ...   \n",
       "4999995         0.0         NaN   NaN   NaN      NaN   NaN    NaN    NaN   \n",
       "4999996         0.0         NaN   NaN   NaN      NaN   NaN    NaN    NaN   \n",
       "4999997         0.0         NaN   NaN   NaN      NaN   NaN    NaN    NaN   \n",
       "4999998         0.0         NaN   NaN   NaN      NaN   NaN    NaN    NaN   \n",
       "4999999         0.0         NaN   NaN   NaN      NaN   NaN    NaN    NaN   \n",
       "\n",
       "         resistance  ventfreq  ventmode  vt  dobutamin_perfusor  \\\n",
       "0               NaN       NaN       NaN NaN                 0.0   \n",
       "1               NaN       NaN       NaN NaN                 0.0   \n",
       "2               NaN       NaN       NaN NaN                 0.0   \n",
       "3               NaN       NaN       NaN NaN                 0.0   \n",
       "4               NaN       NaN       NaN NaN                 0.0   \n",
       "...             ...       ...       ...  ..                 ...   \n",
       "4999995         NaN       NaN       NaN NaN                 0.0   \n",
       "4999996         NaN       NaN       NaN NaN                 0.0   \n",
       "4999997         NaN       NaN       NaN NaN                 0.0   \n",
       "4999998         NaN       NaN       NaN NaN                 0.0   \n",
       "4999999         NaN       NaN       NaN NaN                 0.0   \n",
       "\n",
       "         epinephrin_perfusor  levosimendan_perfusor  noradrenalin_perfusor  \\\n",
       "0                        0.0                    0.0                    0.0   \n",
       "1                        0.0                    0.0                    0.0   \n",
       "2                        0.0                    0.0                    0.0   \n",
       "3                        0.0                    0.0                    0.0   \n",
       "4                        0.0                    0.0                    0.0   \n",
       "...                      ...                    ...                    ...   \n",
       "4999995                  0.0                    0.0                    0.0   \n",
       "4999996                  0.0                    0.0                    0.0   \n",
       "4999997                  0.0                    0.0                    0.0   \n",
       "4999998                  0.0                    0.0                    0.0   \n",
       "4999999                  0.0                    0.0                    0.0   \n",
       "\n",
       "         phenylephrin_perfusor  propofol_perfusor  remifentanil_perfusor  \\\n",
       "0                          0.0                0.0                    0.0   \n",
       "1                          0.0                0.0                    0.0   \n",
       "2                          0.0                0.0                    0.0   \n",
       "3                          0.0                0.0                    0.0   \n",
       "4                          0.0                0.0                    0.0   \n",
       "...                        ...                ...                    ...   \n",
       "4999995                    0.0              290.0                    1.0   \n",
       "4999996                    0.0              290.0                    1.0   \n",
       "4999997                    0.0              290.0                    1.0   \n",
       "4999998                    0.0              290.0                    1.0   \n",
       "4999999                    0.0              290.0                    1.0   \n",
       "\n",
       "         sufentanil_perfusor  vasopressin_perfusor          phase  \\\n",
       "0                        0.0                   0.0     pre-airway   \n",
       "1                        0.0                   0.0     pre-airway   \n",
       "2                        0.0                   0.0     pre-airway   \n",
       "3                        0.0                   0.0     pre-airway   \n",
       "4                        0.0                   0.0     pre-airway   \n",
       "...                      ...                   ...            ...   \n",
       "4999995                  0.0                   0.0  intra-surgery   \n",
       "4999996                  0.0                   0.0  intra-surgery   \n",
       "4999997                  0.0                   0.0  intra-surgery   \n",
       "4999998                  0.0                   0.0  intra-surgery   \n",
       "4999999                  0.0                   0.0  intra-surgery   \n",
       "\n",
       "         hypotension60  MAP_period_id60  hypotension55  MAP_period_id55  \\\n",
       "0                    0                1              0                1   \n",
       "1                    0                1              0                1   \n",
       "2                    0                1              0                1   \n",
       "3                    0                1              0                1   \n",
       "4                    0                1              0                1   \n",
       "...                ...              ...            ...              ...   \n",
       "4999995              0                3              0                1   \n",
       "4999996              0                3              0                1   \n",
       "4999997              0                3              0                1   \n",
       "4999998              0                3              0                1   \n",
       "4999999              0                3              0                1   \n",
       "\n",
       "         hypotension65  MAP_period_id65  spo2_below_threshold  spo2_period_id  \\\n",
       "0                    0                1                     0               1   \n",
       "1                    0                1                     0               1   \n",
       "2                    0                1                     0               1   \n",
       "3                    0                1                     0               1   \n",
       "4                    0                1                     0               1   \n",
       "...                ...              ...                   ...             ...   \n",
       "4999995              0                3                     0               1   \n",
       "4999996              0                3                     0               1   \n",
       "4999997              0                3                     0               1   \n",
       "4999998              0                3                     0               1   \n",
       "4999999              0                3                     0               1   \n",
       "\n",
       "         hypoxemia  \n",
       "0                0  \n",
       "1                0  \n",
       "2                0  \n",
       "3                0  \n",
       "4                0  \n",
       "...            ...  \n",
       "4999995          0  \n",
       "4999996          0  \n",
       "4999997          0  \n",
       "4999998          0  \n",
       "4999999          0  \n",
       "\n",
       "[5000000 rows x 63 columns]"
      ]
     },
     "execution_count": 21,
     "metadata": {},
     "output_type": "execute_result"
    }
   ],
   "source": [
    "df"
   ]
  },
  {
   "cell_type": "code",
   "execution_count": 22,
   "id": "3273293d-abbe-4a33-a109-03c70b1e748c",
   "metadata": {},
   "outputs": [
    {
     "name": "stdout",
     "output_type": "stream",
     "text": [
      "['phase']\n",
      "['pre-surgery', 'pre-airway', 'intra-surgery', 'post-surgery', 'undefined']\n",
      "[-2, -1, 0, 1, 0]\n"
     ]
    }
   ],
   "source": [
    "df = replace_string_data(df, replace_data)"
   ]
  },
  {
   "cell_type": "code",
   "execution_count": 23,
   "id": "6fd7c4fa-7798-476b-a1b0-14027f068b68",
   "metadata": {},
   "outputs": [
    {
     "name": "stdout",
     "output_type": "stream",
     "text": [
      "['phase']\n",
      "['pre-surgery', 'pre-airway', 'intra-surgery', 'post-surgery', 'undefined']\n",
      "[0, 0.33, 0.66, 1, 0.66]\n",
      "['invasivebp']\n",
      "['NIBP', 'ART']\n",
      "[False, True]\n",
      "['hypotension60']\n",
      "[0, 1]\n",
      "[False, True]\n",
      "['hypotension65']\n",
      "[0, 1]\n",
      "[False, True]\n",
      "['hypoxemia']\n",
      "[0, 1]\n",
      "[False, True]\n"
     ]
    }
   ],
   "source": [
    "all = ['rand_id', 'case_time', 'age', 'gender', 'asa_score', 'urgency',\n",
    "       'surgery_type', 'hf', 'pulse', 'spo2', 'etco2', 'systolicbp',\n",
    "       'diastolicbp', 'meanbp', 'invasivebp', 'insevo', 'exsevo', 'indes',\n",
    "       'exdes', 'berodual', 'cisatracurium', 'esketamin', 'etomidat',\n",
    "       'fentanyl', 'midazolam', 'noradrenalin', 'phenylephrin', 'piritramid',\n",
    "       'propofol', 'remifentanil', 'rocuronium', 'succinylcholin',\n",
    "       'sufentanil', 'compliance', 'fio2', 'peep', 'plateau', 'pmax', 'ppeak',\n",
    "       'pmean', 'resistance', 'ventfreq', 'ventmode', 'vt',\n",
    "       'dobutamin_perfusor', 'epinephrin_perfusor', 'levosimendan_perfusor',\n",
    "       'noradrenalin_perfusor', 'phenylephrin_perfusor', 'propofol_perfusor',\n",
    "       'remifentanil_perfusor', 'sufentanil_perfusor', 'vasopressin_perfusor',\n",
    "       'phase', 'hypotension60', 'hypotension65',  'hypoxemia']\n",
    "\n",
    "raw_data_kor = pd.read_parquet('/gpfs/data/fs71801/lkapral66/exportVitalDB_all_V2.parquet')\n",
    "df_kor = raw_data_kor\n",
    "replace_data_kor = [ [['phase'],['pre-surgery','pre-airway','intra-surgery', 'post-surgery', 'undefined'], [0,0.33,0.66,1,0.66]], [['invasivebp'],[ 'NIBP', 'ART'], [False,True]], [['hypotension60'],[ 0, 1], [False,True]], [['hypotension65'],[ 0, 1], [False,True]], [['hypoxemia'],[ 0, 1], [False,True]]]\n",
    "\n",
    "df_kor['case_time'] = df_kor['case_time'].dt.hour * 3600 + df_kor['case_time'].dt.minute * 60 + df_kor['case_time'].dt.second\n",
    "df_kor[['berodual', 'cisatracurium', 'esketamin', 'etomidat', 'fentanyl', 'midazolam', 'noradrenalin', 'phenylephrin', 'piritramid', 'propofol', 'remifentanil', 'rocuronium', 'succinylcholin', 'sufentanil', 'pmax', 'resistance', 'ventfreq', 'ventmode', 'vt', 'dobutamin_perfusor', 'levosimendan_perfusor', 'sufentanil_perfusor']]=0.\n",
    "\n",
    "df_kor = df_kor[df_kor['asa_score'].isin([1,2,3,4,5])]\n",
    "df_kor = df_kor.loc[df_kor['surgery_type']!=16,:]\n",
    "df_kor = df_kor[all]\n",
    "df_kor.replace([np.inf, -np.inf], np.finfo(np.float32).max, inplace=True)\n",
    "\n",
    "# Step 1: Identify columns with non-finite values\n",
    "columns_with_non_finite = df_kor.columns[df_kor.isin([np.nan, np.inf, -np.inf]).any()]\n",
    "\n",
    "# Step 2: Handle non-finite values (e.g., replace with 0)\n",
    "df_kor[columns_with_non_finite] = df_kor[columns_with_non_finite].fillna(0)\n",
    "\n",
    "# Step 3: Convert columns to integer dtype\n",
    "for column in columns_with_non_finite:\n",
    "    df_kor[column] = df_kor[column].astype(int)\n",
    "\n",
    "df_kor = replace_string_data(df_kor, replace_data_kor)\n",
    "\n",
    "\n",
    "for column in df.columns:\n",
    "    if column in df_kor.columns:\n",
    "        df_kor[column] = df_kor[column].astype(df[column].dtype)\n",
    "\n",
    "\n",
    "\n",
    "\n",
    "\n",
    "\n",
    "\n",
    "\n",
    "\n",
    "numeric_columns = df_kor.select_dtypes(include=[np.number])\n",
    "df_kor[numeric_columns.columns] = numeric_columns.fillna(method='ffill').fillna(0.0)\n",
    "\n",
    "\n",
    "\n",
    "\n",
    "\n",
    "\n",
    "\n"
   ]
  },
  {
   "cell_type": "code",
   "execution_count": 24,
   "id": "481db7f5",
   "metadata": {
    "tags": []
   },
   "outputs": [
    {
     "data": {
      "text/plain": [
       "Index(['rand_id', 'case_time', 'age', 'gender', 'asa_score', 'urgency',\n",
       "       'surgery_type', 'hf', 'pulse', 'spo2', 'etco2', 'systolicbp',\n",
       "       'diastolicbp', 'meanbp', 'invasivebp', 'insevo', 'exsevo', 'indes',\n",
       "       'exdes', 'berodual', 'cisatracurium', 'esketamin', 'etomidat',\n",
       "       'fentanyl', 'midazolam', 'noradrenalin', 'phenylephrin', 'piritramid',\n",
       "       'propofol', 'remifentanil', 'rocuronium', 'succinylcholin',\n",
       "       'sufentanil', 'compliance', 'fio2', 'peep', 'plateau', 'pmax', 'ppeak',\n",
       "       'pmean', 'resistance', 'ventfreq', 'ventmode', 'vt',\n",
       "       'dobutamin_perfusor', 'epinephrin_perfusor', 'levosimendan_perfusor',\n",
       "       'noradrenalin_perfusor', 'phenylephrin_perfusor', 'propofol_perfusor',\n",
       "       'remifentanil_perfusor', 'sufentanil_perfusor', 'vasopressin_perfusor',\n",
       "       'phase', 'hypotension60', 'hypotension65', 'hypoxemia'],\n",
       "      dtype='object')"
      ]
     },
     "execution_count": 24,
     "metadata": {},
     "output_type": "execute_result"
    }
   ],
   "source": [
    "df_kor.columns"
   ]
  },
  {
   "cell_type": "code",
   "execution_count": 25,
   "id": "7483aa81-27c2-400a-a900-bd88bcdb556b",
   "metadata": {},
   "outputs": [
    {
     "data": {
      "text/plain": [
       "Index(['rand_id', 'case_time', 'age', 'gender', 'asa_score', 'urgency',\n",
       "       'surgery_type', 'hf', 'pulse', 'spo2', 'etco2', 'systolicbp',\n",
       "       'diastolicbp', 'meanbp', 'invasivebp', 'insevo', 'exsevo', 'indes',\n",
       "       'exdes', 'berodual', 'cisatracurium', 'esketamin', 'etomidat',\n",
       "       'fentanyl', 'midazolam', 'noradrenalin', 'phenylephrin', 'piritramid',\n",
       "       'propofol', 'remifentanil', 'rocuronium', 'succinylcholin',\n",
       "       'sufentanil', 'compliance', 'fio2', 'peep', 'plateau', 'pmax', 'ppeak',\n",
       "       'pmean', 'resistance', 'ventfreq', 'ventmode', 'vt',\n",
       "       'dobutamin_perfusor', 'epinephrin_perfusor', 'levosimendan_perfusor',\n",
       "       'noradrenalin_perfusor', 'phenylephrin_perfusor', 'propofol_perfusor',\n",
       "       'remifentanil_perfusor', 'sufentanil_perfusor', 'vasopressin_perfusor',\n",
       "       'phase', 'hypotension60', 'MAP_period_id60', 'hypotension55',\n",
       "       'MAP_period_id55', 'hypotension65', 'MAP_period_id65',\n",
       "       'spo2_below_threshold', 'spo2_period_id', 'hypoxemia'],\n",
       "      dtype='object')"
      ]
     },
     "execution_count": 25,
     "metadata": {},
     "output_type": "execute_result"
    }
   ],
   "source": [
    "df.columns"
   ]
  },
  {
   "cell_type": "code",
   "execution_count": 26,
   "id": "5597498c-2dd0-4e96-9b82-db81ce510a01",
   "metadata": {
    "tags": []
   },
   "outputs": [],
   "source": [
    "shifts = [0,-4,-12,-20,-28] #0,1,3,5,7"
   ]
  },
  {
   "cell_type": "code",
   "execution_count": 27,
   "id": "ac624a59-f9cd-48a2-863c-42c1b2ae487f",
   "metadata": {
    "tags": []
   },
   "outputs": [],
   "source": [
    "#df['hypotension65'] = int(df['meanbp']<65.)"
   ]
  },
  {
   "cell_type": "code",
   "execution_count": 28,
   "id": "922f6a6d-0734-4f9a-82d4-755aba2b7b4f",
   "metadata": {
    "tags": []
   },
   "outputs": [],
   "source": [
    "label= 'hypotension65'\n",
    "label_names = shifted_label_names(label, shifts=shifts)"
   ]
  },
  {
   "cell_type": "code",
   "execution_count": 29,
   "id": "2b7c83d3-0483-4e0b-a804-4332b5e05e8f",
   "metadata": {
    "tags": []
   },
   "outputs": [],
   "source": [
    "df = shift_and_one_hot(df, label, shifts)"
   ]
  },
  {
   "cell_type": "code",
   "execution_count": 30,
   "id": "94e83b07-fad9-4e90-a284-4f899072beaf",
   "metadata": {
    "tags": []
   },
   "outputs": [],
   "source": [
    "df_kor = shift_and_one_hot(df_kor, label, shifts)"
   ]
  },
  {
   "cell_type": "code",
   "execution_count": null,
   "id": "3e5043a4-9b61-4163-889d-0a89c5ecb6bc",
   "metadata": {
    "tags": []
   },
   "outputs": [],
   "source": [
    "\n"
   ]
  },
  {
   "cell_type": "code",
   "execution_count": null,
   "id": "f29fa8c2-3b0a-44ec-a388-1026b82e5c71",
   "metadata": {
    "tags": []
   },
   "outputs": [],
   "source": []
  },
  {
   "cell_type": "code",
   "execution_count": 65,
   "id": "3c4daacf-1f2a-4078-a86b-1fcdd96f1bac",
   "metadata": {
    "tags": []
   },
   "outputs": [],
   "source": [
    "window_size_xgb = 16 # 2 minutes / 15 seconds\n",
    "shift_index = 3\n",
    "kor = False"
   ]
  },
  {
   "cell_type": "code",
   "execution_count": 66,
   "id": "512f8dda-b3d6-42dc-b6c1-e510a8a1d4d3",
   "metadata": {
    "tags": []
   },
   "outputs": [],
   "source": [
    "import numpy as np\n",
    "\n",
    "def make_dataset(df, shifts):\n",
    "    features = df[both_features]\n",
    "    prediction_time = shifts[shift_index]\n",
    "    original_features = []\n",
    "    \n",
    "    labels = []\n",
    "    data = []\n",
    "    for id_, group in df.groupby('rand_id'):\n",
    "        # drop the id column\n",
    "        group = group.drop('rand_id', axis=1)\n",
    "        features = group[both_features].values\n",
    "        label = group[label_names[shift_index]].values\n",
    "        \n",
    "        for i in range(window_size_xgb, len(group)):\n",
    "            # select the rows for the current window\n",
    "            window_data = features[i-window_size_xgb:i].flatten()\n",
    "            data.append(window_data)\n",
    "            \n",
    "            # select the label for the current window\n",
    "            # this selects the label of the last row in the window\n",
    "            # change this if you want to determine the label in a different way\n",
    "            window_label = label[i-1]\n",
    "            labels.append(window_label)\n",
    "            \n",
    "                    # select the last value of the original feature in the window\n",
    "            original_feature_value = group['meanbp'].values[i-1]\n",
    "            original_features.append(original_feature_value)\n",
    "    \n",
    "    # convert the lists of arrays into 2D arrays\n",
    "    data = np.array(data)\n",
    "    labels = np.array(labels)\n",
    "    original_features = np.array(original_features)\n",
    "\n",
    "\n",
    "    not_nan_indices = np.logical_not(np.isnan(labels))\n",
    "    \n",
    "    # Use these indices to get the non-NaN labels and corresponding data\n",
    "    labels = labels[not_nan_indices]\n",
    "    data = data[not_nan_indices]\n",
    "    original_features = original_features[not_nan_indices]\n",
    "\n",
    "    return labels, data, original_features"
   ]
  },
  {
   "cell_type": "code",
   "execution_count": 67,
   "id": "cd41e5ab-4710-4e40-bd29-c9c61fe26eeb",
   "metadata": {},
   "outputs": [],
   "source": [
    "if(kor):\n",
    "    labels, data, original_features = make_dataset(df_kor, shifts)   \n",
    "else:\n",
    "    labels, data, original_features = make_dataset(df, shifts)    "
   ]
  },
  {
   "cell_type": "code",
   "execution_count": 68,
   "id": "c0e725ff-faae-4cdf-a95c-22e38febb871",
   "metadata": {
    "tags": []
   },
   "outputs": [],
   "source": [
    "from sklearn.model_selection import train_test_split\n",
    "from sklearn.calibration import CalibratedClassifierCV\n",
    "from sklearn.metrics import accuracy_score\n",
    "import xgboost as xgb\n",
    "\n",
    "# split the data into training and test sets\n",
    "X_train, X_test, y_train, y_test = train_test_split(data, labels, test_size=0.1, random_state=42, shuffle= True)\n",
    "\n",
    "# Assume you have X, y as your data and target\n",
    "X_train, X_val, y_train, y_val = train_test_split(X_train, y_train, test_size=0.2, random_state=42)\n",
    "\n",
    "\n",
    "class_ratio = float(np.sum(labels == 0)) / np.sum(labels == 1)\n",
    "# Train XGBoost\n",
    "\n"
   ]
  },
  {
   "cell_type": "code",
   "execution_count": 69,
   "id": "e28d3c04-9598-4da4-b1bd-9e1d52c9ea7b",
   "metadata": {},
   "outputs": [
    {
     "data": {
      "text/plain": [
       "\"\\nmodel = xgb.XGBClassifier(objective ='binary:logistic', colsample_bytree = 0.3, learning_rate = 0.1,\\n                max_depth = 64, alpha = 10, n_estimators = 500, scale_pos_weight=class_ratio)\\nmodel.fit(X_train, y_train)\\ncalibrator = CalibratedClassifierCV(model, cv='prefit', method='isotonic')\\nmodel = calibrator.fit(X_val, y_val)\\n\\nimport pickle\\n\\n# Assuming 'clf' is your trained CalibratedClassifierCV model\\nwith open('XGB_'+str(shifts[shift_index])+'.pkl', 'wb') as f:\\n    pickle.dump(model, f)\\n\""
      ]
     },
     "execution_count": 69,
     "metadata": {},
     "output_type": "execute_result"
    }
   ],
   "source": [
    "'''\n",
    "model = xgb.XGBClassifier(objective ='binary:logistic', colsample_bytree = 0.3, learning_rate = 0.1,\n",
    "                max_depth = 64, alpha = 10, n_estimators = 500, scale_pos_weight=class_ratio)\n",
    "model.fit(X_train, y_train)\n",
    "calibrator = CalibratedClassifierCV(model, cv='prefit', method='isotonic')\n",
    "model = calibrator.fit(X_val, y_val)\n",
    "\n",
    "import pickle\n",
    "\n",
    "# Assuming 'clf' is your trained CalibratedClassifierCV model\n",
    "with open('XGB_'+str(shifts[shift_index])+'.pkl', 'wb') as f:\n",
    "    pickle.dump(model, f)\n",
    "'''"
   ]
  },
  {
   "cell_type": "code",
   "execution_count": 70,
   "id": "76768120-8586-410a-8745-c9afb76fafd0",
   "metadata": {
    "tags": []
   },
   "outputs": [],
   "source": [
    "\n",
    "import pickle\n",
    "\n",
    "with open('XGB_'+str(shifts[shift_index])+'.pkl', 'rb') as f:\n",
    "    model = pickle.load(f)\n",
    "\n",
    "\n"
   ]
  },
  {
   "cell_type": "code",
   "execution_count": 71,
   "id": "356eaed5-ed91-4497-804f-f57dad17023c",
   "metadata": {
    "tags": []
   },
   "outputs": [
    {
     "name": "stdout",
     "output_type": "stream",
     "text": [
      "Accuracy: 0.942228277781983\n"
     ]
    }
   ],
   "source": [
    "# use the model to make predictions on the test set\n",
    "y_pred = model.predict(X_test)\n",
    "\n",
    "# compute the accuracy of the predictions\n",
    "accuracy = accuracy_score(y_test, y_pred)\n",
    "print(f\"Accuracy: {accuracy}\")"
   ]
  },
  {
   "cell_type": "code",
   "execution_count": 72,
   "id": "589399ef-0c42-4ccc-81f1-29aeef7878e2",
   "metadata": {
    "tags": []
   },
   "outputs": [
    {
     "data": {
      "text/plain": [
       "(3566969,)"
      ]
     },
     "execution_count": 72,
     "metadata": {},
     "output_type": "execute_result"
    }
   ],
   "source": [
    "original_features.shape"
   ]
  },
  {
   "cell_type": "code",
   "execution_count": 73,
   "id": "b5d7cefa-af37-4459-a467-2e3ee4209431",
   "metadata": {
    "tags": []
   },
   "outputs": [
    {
     "data": {
      "text/plain": [
       "(356697, 848)"
      ]
     },
     "execution_count": 73,
     "metadata": {},
     "output_type": "execute_result"
    }
   ],
   "source": [
    "X_test.shape"
   ]
  },
  {
   "cell_type": "code",
   "execution_count": 74,
   "id": "9ba0935e-70ce-41c0-b9c0-c0688388ad07",
   "metadata": {
    "tags": []
   },
   "outputs": [
    {
     "data": {
      "text/plain": [
       "(356697,)"
      ]
     },
     "execution_count": 74,
     "metadata": {},
     "output_type": "execute_result"
    }
   ],
   "source": [
    "y_pred.shape"
   ]
  },
  {
   "cell_type": "code",
   "execution_count": 75,
   "id": "c9e8ebae-8cd9-450a-86bc-3093e63cdd0a",
   "metadata": {
    "tags": []
   },
   "outputs": [
    {
     "data": {
      "text/plain": [
       "53"
      ]
     },
     "execution_count": 75,
     "metadata": {},
     "output_type": "execute_result"
    }
   ],
   "source": [
    "len(both_features)"
   ]
  },
  {
   "cell_type": "code",
   "execution_count": 76,
   "id": "002eea93-c2dd-4505-8929-ccf599d7bd63",
   "metadata": {
    "tags": []
   },
   "outputs": [],
   "source": [
    "show_index = 6"
   ]
  },
  {
   "cell_type": "code",
   "execution_count": 77,
   "id": "a89a3524-baf6-4562-8bc6-70cbad0642a4",
   "metadata": {
    "tags": []
   },
   "outputs": [
    {
     "data": {
      "text/plain": [
       "array([[86., 67., 67., 67., 67., 67., 67., 67., 67., 67., 67., 62., 62.,\n",
       "        62., 62., 62.],\n",
       "       [67., 67., 67., 67., 67., 67., 67., 67., 67., 67., 62., 62., 62.,\n",
       "        62., 62., 62.],\n",
       "       [67., 67., 67., 67., 67., 67., 67., 67., 67., 62., 62., 62., 62.,\n",
       "        62., 62., 62.],\n",
       "       [67., 67., 67., 67., 67., 67., 67., 67., 62., 62., 62., 62., 62.,\n",
       "        62., 62., 62.],\n",
       "       [67., 67., 67., 67., 67., 67., 67., 62., 62., 62., 62., 62., 62.,\n",
       "        62., 62., 62.]])"
      ]
     },
     "execution_count": 77,
     "metadata": {},
     "output_type": "execute_result"
    }
   ],
   "source": [
    "data[927:932,[show_index, show_index+len(both_features)*1, show_index+len(both_features)*2, show_index+len(both_features)*3,show_index+len(both_features)*4, show_index+len(both_features)*5, show_index+len(both_features)*6, show_index+len(both_features)*7, show_index+len(both_features)*8, show_index+len(both_features)*9, show_index+len(both_features)*10, show_index+len(both_features)*11, show_index+len(both_features)*12, show_index+len(both_features)*13, show_index+len(both_features)*14, show_index+len(both_features)*15]]"
   ]
  },
  {
   "cell_type": "code",
   "execution_count": 78,
   "id": "666e8630-f618-45a1-b1d0-c576cc994d86",
   "metadata": {
    "tags": []
   },
   "outputs": [
    {
     "data": {
      "text/plain": [
       "array([0., 0., 0., 0., 0., 0., 0., 0., 0., 0., 0., 0., 0., 0., 0., 0., 0.,\n",
       "       0., 0., 0., 0., 0., 0., 0., 0., 0., 0., 0., 0., 0., 0., 0., 0., 0.,\n",
       "       0., 0., 0., 0., 0., 0., 0., 0., 0., 0., 0., 0., 0., 0., 0., 0., 0.,\n",
       "       0., 0., 0., 0., 0., 0., 0., 0., 0., 0., 0., 0., 0., 0., 0., 0., 0.,\n",
       "       0., 0., 0., 0., 0., 0., 0., 0., 0., 0., 0., 0., 0., 0., 0., 0., 0.,\n",
       "       0., 0., 0., 0., 0., 0., 0., 0., 0., 0., 0., 0., 0., 0., 0., 0., 0.,\n",
       "       0., 0., 0., 0., 0., 0., 0., 0., 0., 0., 0., 0., 0., 0., 0., 0., 0.,\n",
       "       0., 0., 0., 0., 0., 0., 0., 0., 0., 0., 0., 0., 0., 0., 0., 0., 0.,\n",
       "       0., 0., 0., 0., 0., 0., 0., 0., 0., 0., 0., 0., 0., 0., 0., 0., 0.,\n",
       "       0., 0., 0., 0., 0., 0., 0., 0., 0., 0., 0., 0., 0., 0., 0., 0., 0.,\n",
       "       0., 0., 0., 0., 0., 0., 0., 0., 0., 0., 0., 0., 0., 0., 0., 0., 0.,\n",
       "       0., 0., 0., 0., 0., 0., 0., 0., 0., 0., 0., 0., 0.])"
      ]
     },
     "execution_count": 78,
     "metadata": {},
     "output_type": "execute_result"
    }
   ],
   "source": [
    "labels[6400:6600]"
   ]
  },
  {
   "cell_type": "code",
   "execution_count": 79,
   "id": "087ca39f-2499-4bde-90b5-362235e9f08a",
   "metadata": {
    "tags": []
   },
   "outputs": [
    {
     "data": {
      "text/plain": [
       "array([ 62,  62,  62,  62,  62,  70,  70,  70,  70,  70,  70,  70,  70,\n",
       "        70,  70,  70,  65,  65,  65,  65,  65,  65,  65,  65,  65,  65,\n",
       "        77,  77,  77,  77,  77,  77,  77,  77,  77,  77, 103, 103, 103,\n",
       "       103, 103, 103, 103])"
      ]
     },
     "execution_count": 79,
     "metadata": {},
     "output_type": "execute_result"
    }
   ],
   "source": [
    "original_features[927:970]"
   ]
  },
  {
   "cell_type": "code",
   "execution_count": 80,
   "id": "70b777ff-ba85-4a9d-b1bf-fa5f1f60f7bf",
   "metadata": {
    "tags": []
   },
   "outputs": [
    {
     "data": {
      "text/plain": [
       "array([1., 1., 1., 1., 1., 0., 0., 0., 1., 0., 0., 0., 0., 0., 1., 1., 1.,\n",
       "       0., 0., 0., 1., 1., 0., 0., 0., 0., 0., 0., 0., 0., 0., 0., 0., 0.,\n",
       "       0., 0., 0., 0., 0., 0., 0., 0., 0.])"
      ]
     },
     "execution_count": 80,
     "metadata": {},
     "output_type": "execute_result"
    }
   ],
   "source": [
    "model.predict(data[927:970,:])"
   ]
  },
  {
   "cell_type": "code",
   "execution_count": 81,
   "id": "4a030920-e24f-4eb1-a1bd-2af48d6c64ec",
   "metadata": {
    "tags": []
   },
   "outputs": [
    {
     "name": "stdout",
     "output_type": "stream",
     "text": [
      "(400,)\n",
      "(400, 848)\n"
     ]
    },
    {
     "data": {
      "image/png": "[encoded data removed]",
      "text/plain": [
       "<Figure size 640x480 with 1 Axes>"
      ]
     },
     "metadata": {},
     "output_type": "display_data"
    }
   ],
   "source": [
    "import matplotlib.pyplot as plt\n",
    "\n",
    "start = 6400\n",
    "end = 6800\n",
    "\n",
    "\n",
    "p_X_train, p_X_test, p_y_train, p_y_test = train_test_split(data, labels, test_size=0.1, random_state=42, shuffle= False)\n",
    "original_features_train, original_features_test = train_test_split(original_features, test_size=0.1, random_state=42, shuffle= False)\n",
    "# make predictions on your test set\n",
    "p_y_pred = model.predict(p_X_test)\n",
    "\n",
    "# create a scatter plot of the feature vs. the predicted labels\n",
    "# use the true labels as the color\n",
    "x_axis = np.arange(0, (end-start))/4.\n",
    "\n",
    "print(x_axis.shape)\n",
    "print(p_X_test[start:end].shape)\n",
    "\n",
    "plt.scatter(x_axis, p_y_test[start:end]*100+10, color='green')\n",
    "plt.scatter(x_axis, p_y_pred[start:end]*100)\n",
    "plt.plot(x_axis, original_features_test[start:end])\n",
    "plt.axhline(y = 65., color = 'black', linestyle=\":\")\n",
    "\n",
    "plt.legend(['Label', 'Prediction', 'MeanBP'])\n",
    "\n",
    "\n",
    "\n",
    "# add labels and a title\n",
    "plt.xlabel('Time')\n",
    "plt.ylabel('Predicted Label')\n",
    "plt.title('Original Feature vs. Predicted Label')\n",
    "\n",
    "plt.show()"
   ]
  },
  {
   "cell_type": "code",
   "execution_count": 82,
   "id": "77fbc99e-cc07-43e4-b5db-06dfdb1f1545",
   "metadata": {
    "tags": []
   },
   "outputs": [
    {
     "data": {
      "text/plain": [
       "array([108, 113, 114, 112, 103, 103, 109, 108, 106, 107, 104,  97, 104,\n",
       "       104, 100,  99,  96,  94,  92,  91,  96,  94,  91,  92,  88,  87,\n",
       "        89,  88,  85,  84,  85,  87,  86,  84,  84,  85,  86,  73,  82,\n",
       "        80,  91,  91,  94,  99,  95,  97,  97,  95,  96,  95,  93,  93,\n",
       "        85,  81,  79,  80,  78,  78,  77,  79,  76,  75,  76,  75,  75,\n",
       "        75,  77,  79,  77,  81,  79,  78,  81,  78,  82,  82,  84,  85,\n",
       "        89,  90,  90,  94,  91,  82,  77,  76,  80,  82,  80,  83,  84,\n",
       "        85,  83,  82,  84,  85,  83,  85,  85,  86,  85,  85,  84,  84,\n",
       "        85,  83,  84,  85,  83,  84,  85,  86,  82,  80,  79,  83,  81,\n",
       "        82,  81,  79,  78,  82,  79,  80,  82,  80,  82,  79,  80,  83,\n",
       "        87,  91,  94,  94,  95,  97, 101, 102,  98, 102, 108, 105, 107,\n",
       "       261, 144, 120, 255, 251, 247, 134, 107, 108, 107, 104, 105, 107,\n",
       "       101, 102, 101, 102,  98,  97,  97, 101,  98,  95,  92,  92,  93,\n",
       "        95,  91,  93,  94,  94,  87,  89,  88,  87,  90,  84,  90,  85,\n",
       "        80,  81,  82,  84,  89,  89,  93,  96,  96,  97,  92,  93,  96,\n",
       "        99, 101,  99, 102, 102, 101, 102, 101, 101, 102, 101,  99, 100,\n",
       "       100, 102,  99,  98,  98,  97,  95,  99,  95,  97,  95,  90,  90,\n",
       "        91,  94,  91,  93,  94,  99,  99,  93,  94,  92,  92,  94,  94,\n",
       "        92,  90,  91,  90,  87,  87,  86,  85,  85,  82,  81,  83,  83,\n",
       "        84,  80,  80,  83,  81,  79,  77,  73,  76,  77,  79,  81,  81,\n",
       "        79,  82,  82,  79,  77,  77,  80,  80,  80,  79,  80,  81,  79,\n",
       "        80,  83,  80,  83,  82,  80,  77,  74,  75,  78,  84,  74,  69,\n",
       "        80,  82,  82,  85,  82,  95,  90,  94, 102, 104, 103, 108, 112,\n",
       "       117, 113, 111, 116, 114, 116, 119, 113, 116, 115, 114, 112, 114,\n",
       "       109, 111, 110, 109, 105, 108, 104, 104, 103, 107, 106, 110, 109,\n",
       "       112, 101, 102, 101,  99,  94,  98,  91,  88,  91,  90,  89,  89,\n",
       "        85,  84,  78,  81,  82,  79,  78,  75,  75,  77,  70,  77,  73,\n",
       "        73,  71,  64,  61,  63,  68,  69,  73,  71,  76,  82,  83,  82,\n",
       "        86,  89,  92,  89,  91,  90,  80,  78,  78,  84,  83,  80,  79,\n",
       "        80,  82,  87,  89,  94,  91,  93,  92,  87,  89,  89,  92,  93,\n",
       "        91,  89,  88,  91,  89,  91,  88,  89,  86,  90])"
      ]
     },
     "execution_count": 82,
     "metadata": {},
     "output_type": "execute_result"
    }
   ],
   "source": [
    "original_features_test[start:end]"
   ]
  },
  {
   "cell_type": "code",
   "execution_count": null,
   "id": "64b5c342-1e40-40ce-a8d9-b7a2bd2af8ee",
   "metadata": {
    "tags": []
   },
   "outputs": [],
   "source": []
  },
  {
   "cell_type": "code",
   "execution_count": 83,
   "id": "15810d82-4c47-4de8-a069-676c4184fab8",
   "metadata": {
    "tags": []
   },
   "outputs": [
    {
     "name": "stdout",
     "output_type": "stream",
     "text": [
      "Sensitivity: 0.14884077635537726\n",
      "Specificity: 0.9818128837425606\n"
     ]
    }
   ],
   "source": [
    "from sklearn.metrics import confusion_matrix\n",
    "\n",
    "\n",
    "# compute the confusion matrix\n",
    "tn, fp, fn, tp = confusion_matrix(y_test, y_pred).ravel()\n",
    "\n",
    "# compute sensitivity and specificity'\n",
    "sensitivity = tp / (tp+fn)\n",
    "specificity = tn / (tn+fp)\n",
    "\n",
    "print(f\"Sensitivity: {sensitivity}\")\n",
    "print(f\"Specificity: {specificity}\")"
   ]
  },
  {
   "cell_type": "code",
   "execution_count": 84,
   "id": "53935a4e-a48d-46c4-b039-c2a52246db9c",
   "metadata": {
    "tags": []
   },
   "outputs": [
    {
     "data": {
      "image/png": "[encoded data removed]",
      "text/plain": [
       "<Figure size 640x480 with 2 Axes>"
      ]
     },
     "metadata": {},
     "output_type": "display_data"
    },
    {
     "data": {
      "text/plain": [
       "<Figure size 640x480 with 0 Axes>"
      ]
     },
     "metadata": {},
     "output_type": "display_data"
    }
   ],
   "source": [
    "from sklearn.metrics import confusion_matrix, ConfusionMatrixDisplay\n",
    "import seaborn as sns\n",
    "sns.set_style(\"white\")\n",
    "\n",
    "\n",
    "predictions = model.predict(X_test)\n",
    "cm = confusion_matrix(y_test, predictions, labels=model.classes_)\n",
    "disp = ConfusionMatrixDisplay(confusion_matrix=cm, display_labels=model.classes_)\n",
    "disp.plot()\n",
    "\n",
    "plt.show()\n",
    "\n",
    "plt.savefig('confusion_matrix_'+str(shifts[shift_index])+'_isextern_'+str(kor)+'.png')"
   ]
  },
  {
   "cell_type": "code",
   "execution_count": 85,
   "id": "91444090-d1b1-4dc8-b429-da3614002976",
   "metadata": {
    "tags": []
   },
   "outputs": [],
   "source": [
    "prob_pos = model.predict_proba(X_test)[:, 1]"
   ]
  },
  {
   "cell_type": "code",
   "execution_count": 86,
   "id": "fbfdf9b2-fc52-4ca6-b5eb-fdd688306aec",
   "metadata": {
    "tags": []
   },
   "outputs": [],
   "source": [
    "from sklearn.calibration import calibration_curve\n",
    "\n",
    "fraction_of_positives, mean_predicted_value = calibration_curve(y_test, prob_pos, n_bins=10)"
   ]
  },
  {
   "cell_type": "code",
   "execution_count": 87,
   "id": "74e73868-961a-44fc-a78d-6248865977a1",
   "metadata": {
    "tags": []
   },
   "outputs": [],
   "source": [
    "from sklearn.metrics import roc_curve, roc_auc_score\n",
    "\n",
    "# Calculate the ROC curve points\n",
    "fpr, tpr, thresholds = roc_curve(y_test, prob_pos)\n",
    "\n",
    "# Calculate the AUROC score\n",
    "auroc = roc_auc_score(y_test, prob_pos)\n"
   ]
  },
  {
   "cell_type": "code",
   "execution_count": 96,
   "id": "d7b7066b-c78f-4b27-a829-41defc6107bb",
   "metadata": {
    "tags": []
   },
   "outputs": [
    {
     "data": {
      "image/png": "[encoded data removed]",
      "text/plain": [
       "<Figure size 1000x800 with 2 Axes>"
      ]
     },
     "metadata": {},
     "output_type": "display_data"
    }
   ],
   "source": [
    "import matplotlib.pyplot as plt\n",
    "import seaborn as sns\n",
    "\n",
    "from sklearn.metrics import (brier_score_loss, precision_score, recall_score,\n",
    "                             f1_score)\n",
    "\n",
    "# Figure 1 for Calibration curve and Histogram\n",
    "fig1 = plt.figure(figsize=(10, 8)) # Set the overall figure size\n",
    "\n",
    "gs1 = plt.GridSpec(2, 1, height_ratios=[1, 1]) # Set height ratios to 1:1 for equal vertical size\n",
    "\n",
    "# Calibration curve\n",
    "ax1 = plt.subplot(gs1[0])\n",
    "ax1.plot([0, 1], [0, 1], \"k:\", label=\"Perfectly calibrated\")  \n",
    "ax1.plot(mean_predicted_value, fraction_of_positives, \"s-\", label=\"%s\" % 'XGB-classifer', color='blue')\n",
    "ax1.set_xlim([0, 1]) # Set x range to 0 to 1\n",
    "ax1.set_ylim([0, 1]) # Set y range to 0 to 1\n",
    "ax1.set_ylabel(\"Fraction of positives\")\n",
    "ax1.set_title('Calibration plot of XGB classifer for '+str(shifts[shift_index]/-4)+' minutes')\n",
    "ax1.legend(loc=\"upper left\")\n",
    "ax1.xaxis.tick_top() # Move x-axis labels to top\n",
    "ax1.xaxis.set_label_position('top') # Move x-axis label to top\n",
    "\n",
    "# Position legend of plot 1 on x-axis\n",
    "handles, labels_plot = ax1.get_legend_handles_labels()\n",
    "ax1.legend(handles, labels_plot,  ncol=2)\n",
    "\n",
    "# Histogram as an \"inset\" plot\n",
    "ax2 = plt.subplot(gs1[1], sharex=ax1) # Sharing x-axis with first plot\n",
    "hist, bins = np.histogram(prob_pos, bins=10, range=(0, 1))\n",
    "width = (bins[1] - bins[0]) * 0.8\n",
    "centers = (bins[:-1] + bins[1:]) / 2\n",
    "ax2.bar(centers, hist, align='center', width=width, alpha=0.5, color='green', label='Histogram')\n",
    "ax2.set_xlabel(\"Predicted probability\") # Add x-axis label\n",
    "ax2.set_ylabel(\"Number of cases\")\n",
    "\n",
    "ax2.yaxis.set_major_locator(plt.MaxNLocator(5))\n",
    "plt.subplots_adjust(hspace=0)  \n",
    "\n",
    "\n",
    "\n",
    "plt.savefig('XGB_preformance_'+str(shifts[shift_index])+'_isextern_'+str(kor)+'.png')\n",
    "plt.show()"
   ]
  },
  {
   "cell_type": "code",
   "execution_count": 93,
   "id": "3c03656c-108c-4a1c-87a0-9aea01500562",
   "metadata": {
    "tags": []
   },
   "outputs": [
    {
     "name": "stderr",
     "output_type": "stream",
     "text": [
      "\n",
      "KeyboardInterrupt\n",
      "\n"
     ]
    }
   ],
   "source": [
    "from sklearn.metrics import roc_curve, auc\n",
    "from numpy import interp\n",
    "\n",
    "n_bootstraps = 2000\n",
    "rng_seed = 42  # control reproducibility\n",
    "bootstrapped_tprs = []\n",
    "bootstrapped_auc = []\n",
    "\n",
    "base_fpr = np.linspace(0, 1, 101)  # Fix the FPR values for interpolation\n",
    "\n",
    "rng = np.random.RandomState(rng_seed)\n",
    "for i in range(n_bootstraps):\n",
    "    # bootstrap by sampling with replacement on the prediction indices\n",
    "    indices = rng.randint(0, len(prob_pos), len(prob_pos))\n",
    "    if len(np.unique(y_test[indices])) < 2:\n",
    "        # We need at least one positive and one negative sample for ROC AUC\n",
    "        # to be defined: reject the sample\n",
    "        continue\n",
    "\n",
    "    fpr_boot, tpr_boot, _ = roc_curve(y_test[indices], prob_pos[indices])\n",
    "    bootstrapped_auc.append(auc(fpr_boot, tpr_boot))\n",
    "\n",
    "    # Interpolate TPR for the fixed FPR value\n",
    "    tpr_boot_interp = interp(base_fpr, fpr_boot, tpr_boot)\n",
    "    bootstrapped_tprs.append(tpr_boot_interp)\n",
    "\n",
    "# Convert list to a 2D array\n",
    "bootstrapped_tprs = np.array(bootstrapped_tprs)\n",
    "\n",
    "# Compute the lower and upper bound of the ROC curve\n",
    "tprs_lower = np.percentile(bootstrapped_tprs, 2.5, axis=0)\n",
    "tprs_upper = np.percentile(bootstrapped_tprs, 97.5, axis=0)\n",
    "\n",
    "# Compute the lower and upper bound of the ROC AUC\n",
    "auc_lower = np.percentile(bootstrapped_auc, 2.5)\n",
    "auc_upper = np.percentile(bootstrapped_auc, 97.5)\n",
    "\n",
    "print(\"Confidence interval for the ROC curve: [{:0.3f} - {:0.3}]\".format(auc_lower, auc_upper))"
   ]
  },
  {
   "cell_type": "code",
   "execution_count": 94,
   "id": "5d84c1b7-8b13-45ed-9716-1ca9edfd14a7",
   "metadata": {
    "tags": []
   },
   "outputs": [
    {
     "data": {
      "image/png": "[encoded data removed]",
      "text/plain": [
       "<Figure size 1000x600 with 1 Axes>"
      ]
     },
     "metadata": {},
     "output_type": "display_data"
    }
   ],
   "source": [
    "fig2 = plt.figure(figsize=(10, 6))\n",
    "\n",
    "specificity = 1 - base_fpr  # Calculate Specificity (1 - False Positive Rate)\n",
    "\n",
    "ax3 = plt.subplot(1, 1, 1)\n",
    "ax3.plot([1, 0], [0, 1], 'k--')  # Invert x-axis\n",
    "ax3.plot(specificity, np.median(bootstrapped_tprs, axis=0), label=r'ROC (AUC = %0.2f $\\pm$ %0.2f)' % (auroc, (auc_upper-auc_lower)/2), color='blue')\n",
    "ax3.fill_between(specificity, tprs_lower, tprs_upper, color='grey', alpha=0.2)\n",
    "ax3.set_xlabel('Specificity (True Negative Rate)')\n",
    "ax3.set_ylabel('Sensitivity (True Positive Rate)')\n",
    "ax3.set_title('Receiver Operating Characteristic XGB-CLassifier for '+str(shifts[shift_index]/-4.)+' minutes')\n",
    "ax3.legend(loc='lower right')\n",
    "ax3.set_xlim([1, 0])  # Invert x-axis limits\n",
    "ax3.set_ylim([0, 1])\n",
    "ax3.set_xticks([1,0.8,0.6,0.4,0.2,0])  # Set x-axis tick locations\n",
    "ax3.set_xticklabels([1,0.8,0.6,0.4,0.2,0])  # Set x-axis tick labels\n",
    "\n",
    "\n",
    "\n",
    "\n",
    "plt.tight_layout()\n",
    "plt.savefig('ROC_Curve_XGB_'+str(shifts[shift_index])+'_isextern_'+str(kor)+'.png')\n",
    "plt.show()"
   ]
  },
  {
   "cell_type": "code",
   "execution_count": 91,
   "id": "de0005ab-896e-46b0-a87c-485925175cfe",
   "metadata": {
    "scrolled": true
   },
   "outputs": [
    {
     "data": {
      "text/plain": [
       "'\\nimport numpy as np\\nfrom sklearn.metrics import roc_auc_score, recall_score, precision_score, accuracy_score\\nfrom sklearn.utils import resample\\nfrom tqdm import tqdm\\n# Define the number of bootstrap samples\\nn_bootstrap = 2000\\n\\n# Create empty lists to store bootstrapped metrics\\nsensitivity_values = []\\nspecificity_values = []\\nppv_values = []\\nnpv_values = []\\nauroc_values = []\\naccuracy_values = []\\n\\n\\n\\n# Perform bootstrap resampling\\nfor i in tqdm(range(n_bootstrap)):\\n    # Sample with replacement from the predictions\\n    indices = resample(range(len(y_pred)), replace=True)\\n    bootstrap_y_test = y_test[indices]\\n    bootstrap_y_pred = y_pred[indices]\\n    bootstrap_prob_pos = prob_pos[indices]\\n\\n    # Calculate metrics for the bootstrap sample\\n    sensitivity = recall_score(bootstrap_y_test, bootstrap_y_pred)\\n    specificity = recall_score(bootstrap_y_test, bootstrap_y_pred, pos_label=0)\\n    ppv = precision_score(bootstrap_y_test, bootstrap_y_pred)\\n    npv = precision_score(bootstrap_y_test, bootstrap_y_pred, pos_label=0)\\n    auroc = roc_auc_score(bootstrap_y_test, bootstrap_prob_pos)\\n    accuracy = accuracy_score(bootstrap_y_test, bootstrap_y_pred)\\n\\n    # Append the metric values to the lists\\n    sensitivity_values.append(sensitivity)\\n    specificity_values.append(specificity)\\n    ppv_values.append(ppv)\\n    npv_values.append(npv)\\n    auroc_values.append(auroc)\\n    accuracy_values.append(accuracy)\\n\\n# Calculate confidence intervals\\nconfidence_interval = 0.95\\nalpha = (1 - confidence_interval) / 2\\nlower_percentile = alpha * 100\\nupper_percentile = (1 - alpha) * 100\\n\\n# Calculate confidence intervals for each metric\\nsensitivity_ci = np.percentile(sensitivity_values, [lower_percentile, upper_percentile])\\nspecificity_ci = np.percentile(specificity_values, [lower_percentile, upper_percentile])\\nppv_ci = np.percentile(ppv_values, [lower_percentile, upper_percentile])\\nnpv_ci = np.percentile(npv_values, [lower_percentile, upper_percentile])\\nauroc_ci = np.percentile(auroc_values, [lower_percentile, upper_percentile])\\naccuracy_ci = np.percentile(accuracy_values, [lower_percentile, upper_percentile])\\n\\n\\nwith open(\"metrics_XGB_\"+str(shifts[shift_index])+\\'_isextern_\\'+str(kor)+\".txt\", \"w\") as file:\\n    file.write(\"Accuracy: {:.3f} ({:.3f}-{:.3f})\\n\".format(np.mean(accuracy_values), accuracy_ci[0], accuracy_ci[1]))\\n    file.write(\"Sensitivity: {:.3f} ({:.3f}-{:.3f})\\n\".format(sensitivity, sensitivity_ci[0], sensitivity_ci[1]))\\n    file.write(\"Specificity: {:.3f} ({:.3f}-{:.3f})\\n\".format(specificity, specificity_ci[0], specificity_ci[1]))\\n    file.write(\"Positive Predictive Value (PPV): {:.3f} ({:.3f}-{:.3f})\\n\".format(ppv, ppv_ci[0], ppv_ci[1]))\\n    file.write(\"Negative Predictive Value (NPV): {:.3f} ({:.3f}-{:.3f})\\n\".format(npv, npv_ci[0], npv_ci[1]))\\n    file.write(\"Area Under the ROC Curve (AUROC): {:.3f} ({:.3f}-{:.3f})\".format(auroc, auroc_ci[0], auroc_ci[1]))\\n\\n'"
      ]
     },
     "execution_count": 91,
     "metadata": {},
     "output_type": "execute_result"
    }
   ],
   "source": [
    "'''\n",
    "import numpy as np\n",
    "from sklearn.metrics import roc_auc_score, recall_score, precision_score, accuracy_score\n",
    "from sklearn.utils import resample\n",
    "from tqdm import tqdm\n",
    "# Define the number of bootstrap samples\n",
    "n_bootstrap = 2000\n",
    "\n",
    "# Create empty lists to store bootstrapped metrics\n",
    "sensitivity_values = []\n",
    "specificity_values = []\n",
    "ppv_values = []\n",
    "npv_values = []\n",
    "auroc_values = []\n",
    "accuracy_values = []\n",
    "\n",
    "\n",
    "\n",
    "# Perform bootstrap resampling\n",
    "for i in tqdm(range(n_bootstrap)):\n",
    "    # Sample with replacement from the predictions\n",
    "    indices = resample(range(len(y_pred)), replace=True)\n",
    "    bootstrap_y_test = y_test[indices]\n",
    "    bootstrap_y_pred = y_pred[indices]\n",
    "    bootstrap_prob_pos = prob_pos[indices]\n",
    "\n",
    "    # Calculate metrics for the bootstrap sample\n",
    "    sensitivity = recall_score(bootstrap_y_test, bootstrap_y_pred)\n",
    "    specificity = recall_score(bootstrap_y_test, bootstrap_y_pred, pos_label=0)\n",
    "    ppv = precision_score(bootstrap_y_test, bootstrap_y_pred)\n",
    "    npv = precision_score(bootstrap_y_test, bootstrap_y_pred, pos_label=0)\n",
    "    auroc = roc_auc_score(bootstrap_y_test, bootstrap_prob_pos)\n",
    "    accuracy = accuracy_score(bootstrap_y_test, bootstrap_y_pred)\n",
    "\n",
    "    # Append the metric values to the lists\n",
    "    sensitivity_values.append(sensitivity)\n",
    "    specificity_values.append(specificity)\n",
    "    ppv_values.append(ppv)\n",
    "    npv_values.append(npv)\n",
    "    auroc_values.append(auroc)\n",
    "    accuracy_values.append(accuracy)\n",
    "\n",
    "# Calculate confidence intervals\n",
    "confidence_interval = 0.95\n",
    "alpha = (1 - confidence_interval) / 2\n",
    "lower_percentile = alpha * 100\n",
    "upper_percentile = (1 - alpha) * 100\n",
    "\n",
    "# Calculate confidence intervals for each metric\n",
    "sensitivity_ci = np.percentile(sensitivity_values, [lower_percentile, upper_percentile])\n",
    "specificity_ci = np.percentile(specificity_values, [lower_percentile, upper_percentile])\n",
    "ppv_ci = np.percentile(ppv_values, [lower_percentile, upper_percentile])\n",
    "npv_ci = np.percentile(npv_values, [lower_percentile, upper_percentile])\n",
    "auroc_ci = np.percentile(auroc_values, [lower_percentile, upper_percentile])\n",
    "accuracy_ci = np.percentile(accuracy_values, [lower_percentile, upper_percentile])\n",
    "\n",
    "\n",
    "with open(\"metrics_XGB_\"+str(shifts[shift_index])+'_isextern_'+str(kor)+\".txt\", \"w\") as file:\n",
    "    file.write(\"Accuracy: {:.3f} ({:.3f}-{:.3f})\\n\".format(np.mean(accuracy_values), accuracy_ci[0], accuracy_ci[1]))\n",
    "    file.write(\"Sensitivity: {:.3f} ({:.3f}-{:.3f})\\n\".format(sensitivity, sensitivity_ci[0], sensitivity_ci[1]))\n",
    "    file.write(\"Specificity: {:.3f} ({:.3f}-{:.3f})\\n\".format(specificity, specificity_ci[0], specificity_ci[1]))\n",
    "    file.write(\"Positive Predictive Value (PPV): {:.3f} ({:.3f}-{:.3f})\\n\".format(ppv, ppv_ci[0], ppv_ci[1]))\n",
    "    file.write(\"Negative Predictive Value (NPV): {:.3f} ({:.3f}-{:.3f})\\n\".format(npv, npv_ci[0], npv_ci[1]))\n",
    "    file.write(\"Area Under the ROC Curve (AUROC): {:.3f} ({:.3f}-{:.3f})\".format(auroc, auroc_ci[0], auroc_ci[1]))\n",
    "\n",
    "'''\n"
   ]
  },
  {
   "cell_type": "code",
   "execution_count": 98,
   "id": "c41c8a4e-c95a-4167-a5a2-a7a6abf3e3db",
   "metadata": {},
   "outputs": [],
   "source": [
    "import numpy as np\n",
    "from sklearn.metrics import roc_auc_score, recall_score, precision_score, accuracy_score\n",
    "from sklearn.utils import resample\n",
    "from tqdm import tqdm\n",
    "from joblib import Parallel, delayed\n",
    "\n",
    "def compute_metrics(indices):\n",
    "    bootstrap_y_test = y_test[indices]\n",
    "    bootstrap_y_pred = y_pred[indices]\n",
    "    bootstrap_prob_pos = prob_pos[indices]\n",
    "\n",
    "    sensitivity = recall_score(bootstrap_y_test, bootstrap_y_pred)\n",
    "    specificity = recall_score(bootstrap_y_test, bootstrap_y_pred, pos_label=0)\n",
    "    ppv = precision_score(bootstrap_y_test, bootstrap_y_pred)\n",
    "    npv = precision_score(bootstrap_y_test, bootstrap_y_pred, pos_label=0)\n",
    "    auroc = roc_auc_score(bootstrap_y_test, bootstrap_prob_pos)\n",
    "    accuracy = accuracy_score(bootstrap_y_test, bootstrap_y_pred)\n",
    "    \n",
    "    return sensitivity, specificity, ppv, npv, auroc, accuracy\n",
    "\n",
    "# Parallel processing\n",
    "n_jobs = -1  # this will use all the available cores\n",
    "results = Parallel(n_jobs=n_jobs)(delayed(compute_metrics)(resample(range(len(y_pred)), replace=True)) for i in range(2000))\n",
    "\n",
    "sensitivity_values, specificity_values, ppv_values, npv_values, auroc_values, accuracy_values = zip(*results)\n",
    "\n",
    "# Calculate confidence intervals\n",
    "confidence_interval = 0.95\n",
    "alpha = (1 - confidence_interval) / 2\n",
    "lower_percentile = alpha * 100\n",
    "upper_percentile = (1 - alpha) * 100\n",
    "\n",
    "# Calculate confidence intervals for each metric\n",
    "sensitivity_ci = np.percentile(sensitivity_values, [lower_percentile, upper_percentile])\n",
    "specificity_ci = np.percentile(specificity_values, [lower_percentile, upper_percentile])\n",
    "ppv_ci = np.percentile(ppv_values, [lower_percentile, upper_percentile])\n",
    "npv_ci = np.percentile(npv_values, [lower_percentile, upper_percentile])\n",
    "auroc_ci = np.percentile(auroc_values, [lower_percentile, upper_percentile])\n",
    "accuracy_ci = np.percentile(accuracy_values, [lower_percentile, upper_percentile])\n",
    "\n",
    "\n",
    "with open(\"metrics_XGB_\"+str(shifts[shift_index])+'_isextern_'+str(kor)+\".txt\", \"w\") as file:\n",
    "    file.write(\"Accuracy: {:.3f} ({:.3f}-{:.3f})\\n\".format(np.mean(accuracy_values), accuracy_ci[0], accuracy_ci[1]))\n",
    "    file.write(\"Sensitivity: {:.3f} ({:.3f}-{:.3f})\\n\".format(np.mean(sensitivity_values), sensitivity_ci[0], sensitivity_ci[1]))\n",
    "    file.write(\"Specificity: {:.3f} ({:.3f}-{:.3f})\\n\".format(np.mean(specificity_values), specificity_ci[0], specificity_ci[1]))\n",
    "    file.write(\"Positive Predictive Value (PPV): {:.3f} ({:.3f}-{:.3f})\\n\".format(np.mean(ppv_values), ppv_ci[0], ppv_ci[1]))\n",
    "    file.write(\"Negative Predictive Value (NPV): {:.3f} ({:.3f}-{:.3f})\\n\".format(np.mean(npv_values), npv_ci[0], npv_ci[1]))\n",
    "    file.write(\"Area Under the ROC Curve (AUROC): {:.3f} ({:.3f}-{:.3f})\".format(np.mean(auroc_values), auroc_ci[0], auroc_ci[1]))"
   ]
  },
  {
   "cell_type": "code",
   "execution_count": null,
   "id": "41b71597-060c-43fb-8a5d-de6776f2eed3",
   "metadata": {},
   "outputs": [],
   "source": []
  },
  {
   "cell_type": "code",
   "execution_count": null,
   "id": "e7c059e4-3c77-4ee1-bcea-a0e6faa2ddee",
   "metadata": {},
   "outputs": [],
   "source": []
  },
  {
   "cell_type": "code",
   "execution_count": null,
   "id": "dded01a8-511b-463d-9832-3d8f45c49906",
   "metadata": {},
   "outputs": [],
   "source": []
  }
 ],
 "metadata": {
  "kernelspec": {
   "display_name": "Python 3 (ipykernel)",
   "language": "python",
   "name": "python3"
  },
  "language_info": {
   "codemirror_mode": {
    "name": "ipython",
    "version": 3
   },
   "file_extension": ".py",
   "mimetype": "text/x-python",
   "name": "python",
   "nbconvert_exporter": "python",
   "pygments_lexer": "ipython3",
   "version": "3.11.3"
  }
 },
 "nbformat": 4,
 "nbformat_minor": 5
}
